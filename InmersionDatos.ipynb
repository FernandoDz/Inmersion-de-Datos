{
  "nbformat": 4,
  "nbformat_minor": 0,
  "metadata": {
    "colab": {
      "provenance": [],
      "mount_file_id": "1iet6D-woZYhjnFYReseji3-NuHoizl_6",
      "authorship_tag": "ABX9TyNSYmgdq/ijStXs0UUoLkWC",
      "include_colab_link": true
    },
    "kernelspec": {
      "name": "python3",
      "display_name": "Python 3"
    },
    "language_info": {
      "name": "python"
    }
  },
  "cells": [
    {
      "cell_type": "markdown",
      "metadata": {
        "id": "view-in-github",
        "colab_type": "text"
      },
      "source": [
        "<a href=\"https://colab.research.google.com/github/FernandoDz/Inmersion-de-Datos/blob/main/InmersionDatos.ipynb\" target=\"_parent\"><img src=\"https://colab.research.google.com/assets/colab-badge.svg\" alt=\"Open In Colab\"/></a>"
      ]
    },
    {
      "cell_type": "code",
      "execution_count": 7,
      "metadata": {
        "colab": {
          "base_uri": "https://localhost:8080/"
        },
        "id": "m-z9Irr832Bz",
        "outputId": "3b60e0a4-3c07-4b91-c71b-9b61b67d90d3"
      },
      "outputs": [
        {
          "output_type": "stream",
          "name": "stdout",
          "text": [
            "Drive already mounted at /content/drive; to attempt to forcibly remount, call drive.mount(\"/content/drive\", force_remount=True).\n"
          ]
        }
      ],
      "source": [
        "from google.colab import drive\n",
        "drive.mount('/content/drive')"
      ]
    },
    {
      "cell_type": "code",
      "source": [
        "import pandas as pd\n",
        "inmuebles =  pd.read_csv('/content/drive/MyDrive/inmuebles_bogota.csv')\n",
        "inmuebles.head()"
      ],
      "metadata": {
        "colab": {
          "base_uri": "https://localhost:8080/",
          "height": 496
        },
        "id": "mKpxOgsh33ma",
        "outputId": "a8f51792-a3eb-4bf9-c152-3d17d8de4a2a"
      },
      "execution_count": 23,
      "outputs": [
        {
          "output_type": "execute_result",
          "data": {
            "text/plain": [
              "          Tipo                                 Descripcion  Habitaciones  \\\n",
              "0  Apartamento  Apartamento en venta en Zona Noroccidental             3   \n",
              "1         Casa                   Casa en venta en Castilla             4   \n",
              "2  Apartamento     Apartamento en venta en Chico Reservado             3   \n",
              "3  Apartamento             Apartamento en venta en Usaquén             3   \n",
              "4  Apartamento         Apartamento en venta en Bella Suiza             2   \n",
              "\n",
              "   Baños  Área              Barrio                                    UPZ  \\\n",
              "0      2    70  Zona Noroccidental     CHAPINERO: Pardo Rubio + Chapinero   \n",
              "1      3   170            Castilla            KENNEDY: Castilla + Bavaria   \n",
              "2      3   144     Chico Reservado     CHAPINERO: Chicó Lago + El Refugio   \n",
              "3      2   154             Usaquén                                Usaquén   \n",
              "4      3   128         Bella Suiza  USAQUÉN: Country Club + Santa Bárbara   \n",
              "\n",
              "             Valor  \n",
              "0    $ 360.000.000  \n",
              "1    $ 670.000.000  \n",
              "2  $ 1.120.000.000  \n",
              "3    $ 890.000.000  \n",
              "4    $ 970.000.000  "
            ],
            "text/html": [
              "\n",
              "  <div id=\"df-6af15bdb-590c-4dfc-8d70-234f850760d6\">\n",
              "    <div class=\"colab-df-container\">\n",
              "      <div>\n",
              "<style scoped>\n",
              "    .dataframe tbody tr th:only-of-type {\n",
              "        vertical-align: middle;\n",
              "    }\n",
              "\n",
              "    .dataframe tbody tr th {\n",
              "        vertical-align: top;\n",
              "    }\n",
              "\n",
              "    .dataframe thead th {\n",
              "        text-align: right;\n",
              "    }\n",
              "</style>\n",
              "<table border=\"1\" class=\"dataframe\">\n",
              "  <thead>\n",
              "    <tr style=\"text-align: right;\">\n",
              "      <th></th>\n",
              "      <th>Tipo</th>\n",
              "      <th>Descripcion</th>\n",
              "      <th>Habitaciones</th>\n",
              "      <th>Baños</th>\n",
              "      <th>Área</th>\n",
              "      <th>Barrio</th>\n",
              "      <th>UPZ</th>\n",
              "      <th>Valor</th>\n",
              "    </tr>\n",
              "  </thead>\n",
              "  <tbody>\n",
              "    <tr>\n",
              "      <th>0</th>\n",
              "      <td>Apartamento</td>\n",
              "      <td>Apartamento en venta en Zona Noroccidental</td>\n",
              "      <td>3</td>\n",
              "      <td>2</td>\n",
              "      <td>70</td>\n",
              "      <td>Zona Noroccidental</td>\n",
              "      <td>CHAPINERO: Pardo Rubio + Chapinero</td>\n",
              "      <td>$ 360.000.000</td>\n",
              "    </tr>\n",
              "    <tr>\n",
              "      <th>1</th>\n",
              "      <td>Casa</td>\n",
              "      <td>Casa en venta en Castilla</td>\n",
              "      <td>4</td>\n",
              "      <td>3</td>\n",
              "      <td>170</td>\n",
              "      <td>Castilla</td>\n",
              "      <td>KENNEDY: Castilla + Bavaria</td>\n",
              "      <td>$ 670.000.000</td>\n",
              "    </tr>\n",
              "    <tr>\n",
              "      <th>2</th>\n",
              "      <td>Apartamento</td>\n",
              "      <td>Apartamento en venta en Chico Reservado</td>\n",
              "      <td>3</td>\n",
              "      <td>3</td>\n",
              "      <td>144</td>\n",
              "      <td>Chico Reservado</td>\n",
              "      <td>CHAPINERO: Chicó Lago + El Refugio</td>\n",
              "      <td>$ 1.120.000.000</td>\n",
              "    </tr>\n",
              "    <tr>\n",
              "      <th>3</th>\n",
              "      <td>Apartamento</td>\n",
              "      <td>Apartamento en venta en Usaquén</td>\n",
              "      <td>3</td>\n",
              "      <td>2</td>\n",
              "      <td>154</td>\n",
              "      <td>Usaquén</td>\n",
              "      <td>Usaquén</td>\n",
              "      <td>$ 890.000.000</td>\n",
              "    </tr>\n",
              "    <tr>\n",
              "      <th>4</th>\n",
              "      <td>Apartamento</td>\n",
              "      <td>Apartamento en venta en Bella Suiza</td>\n",
              "      <td>2</td>\n",
              "      <td>3</td>\n",
              "      <td>128</td>\n",
              "      <td>Bella Suiza</td>\n",
              "      <td>USAQUÉN: Country Club + Santa Bárbara</td>\n",
              "      <td>$ 970.000.000</td>\n",
              "    </tr>\n",
              "  </tbody>\n",
              "</table>\n",
              "</div>\n",
              "      <button class=\"colab-df-convert\" onclick=\"convertToInteractive('df-6af15bdb-590c-4dfc-8d70-234f850760d6')\"\n",
              "              title=\"Convert this dataframe to an interactive table.\"\n",
              "              style=\"display:none;\">\n",
              "        \n",
              "  <svg xmlns=\"http://www.w3.org/2000/svg\" height=\"24px\"viewBox=\"0 0 24 24\"\n",
              "       width=\"24px\">\n",
              "    <path d=\"M0 0h24v24H0V0z\" fill=\"none\"/>\n",
              "    <path d=\"M18.56 5.44l.94 2.06.94-2.06 2.06-.94-2.06-.94-.94-2.06-.94 2.06-2.06.94zm-11 1L8.5 8.5l.94-2.06 2.06-.94-2.06-.94L8.5 2.5l-.94 2.06-2.06.94zm10 10l.94 2.06.94-2.06 2.06-.94-2.06-.94-.94-2.06-.94 2.06-2.06.94z\"/><path d=\"M17.41 7.96l-1.37-1.37c-.4-.4-.92-.59-1.43-.59-.52 0-1.04.2-1.43.59L10.3 9.45l-7.72 7.72c-.78.78-.78 2.05 0 2.83L4 21.41c.39.39.9.59 1.41.59.51 0 1.02-.2 1.41-.59l7.78-7.78 2.81-2.81c.8-.78.8-2.07 0-2.86zM5.41 20L4 18.59l7.72-7.72 1.47 1.35L5.41 20z\"/>\n",
              "  </svg>\n",
              "      </button>\n",
              "      \n",
              "  <style>\n",
              "    .colab-df-container {\n",
              "      display:flex;\n",
              "      flex-wrap:wrap;\n",
              "      gap: 12px;\n",
              "    }\n",
              "\n",
              "    .colab-df-convert {\n",
              "      background-color: #E8F0FE;\n",
              "      border: none;\n",
              "      border-radius: 50%;\n",
              "      cursor: pointer;\n",
              "      display: none;\n",
              "      fill: #1967D2;\n",
              "      height: 32px;\n",
              "      padding: 0 0 0 0;\n",
              "      width: 32px;\n",
              "    }\n",
              "\n",
              "    .colab-df-convert:hover {\n",
              "      background-color: #E2EBFA;\n",
              "      box-shadow: 0px 1px 2px rgba(60, 64, 67, 0.3), 0px 1px 3px 1px rgba(60, 64, 67, 0.15);\n",
              "      fill: #174EA6;\n",
              "    }\n",
              "\n",
              "    [theme=dark] .colab-df-convert {\n",
              "      background-color: #3B4455;\n",
              "      fill: #D2E3FC;\n",
              "    }\n",
              "\n",
              "    [theme=dark] .colab-df-convert:hover {\n",
              "      background-color: #434B5C;\n",
              "      box-shadow: 0px 1px 3px 1px rgba(0, 0, 0, 0.15);\n",
              "      filter: drop-shadow(0px 1px 2px rgba(0, 0, 0, 0.3));\n",
              "      fill: #FFFFFF;\n",
              "    }\n",
              "  </style>\n",
              "\n",
              "      <script>\n",
              "        const buttonEl =\n",
              "          document.querySelector('#df-6af15bdb-590c-4dfc-8d70-234f850760d6 button.colab-df-convert');\n",
              "        buttonEl.style.display =\n",
              "          google.colab.kernel.accessAllowed ? 'block' : 'none';\n",
              "\n",
              "        async function convertToInteractive(key) {\n",
              "          const element = document.querySelector('#df-6af15bdb-590c-4dfc-8d70-234f850760d6');\n",
              "          const dataTable =\n",
              "            await google.colab.kernel.invokeFunction('convertToInteractive',\n",
              "                                                     [key], {});\n",
              "          if (!dataTable) return;\n",
              "\n",
              "          const docLinkHtml = 'Like what you see? Visit the ' +\n",
              "            '<a target=\"_blank\" href=https://colab.research.google.com/notebooks/data_table.ipynb>data table notebook</a>'\n",
              "            + ' to learn more about interactive tables.';\n",
              "          element.innerHTML = '';\n",
              "          dataTable['output_type'] = 'display_data';\n",
              "          await google.colab.output.renderOutput(dataTable, element);\n",
              "          const docLink = document.createElement('div');\n",
              "          docLink.innerHTML = docLinkHtml;\n",
              "          element.appendChild(docLink);\n",
              "        }\n",
              "      </script>\n",
              "    </div>\n",
              "  </div>\n",
              "  "
            ]
          },
          "metadata": {},
          "execution_count": 23
        }
      ]
    },
    {
      "cell_type": "markdown",
      "source": [],
      "metadata": {
        "id": "nrqXiGpuHGbv"
      }
    },
    {
      "cell_type": "code",
      "source": [
        "inmuebles.shape"
      ],
      "metadata": {
        "colab": {
          "base_uri": "https://localhost:8080/"
        },
        "id": "Hw5paPgs7Y3I",
        "outputId": "87ee9613-9653-4fb7-f19c-73e47dc3630e"
      },
      "execution_count": null,
      "outputs": [
        {
          "output_type": "execute_result",
          "data": {
            "text/plain": [
              "(9520, 8)"
            ]
          },
          "metadata": {},
          "execution_count": 3
        }
      ]
    },
    {
      "cell_type": "code",
      "source": [
        "inmuebles.columns"
      ],
      "metadata": {
        "colab": {
          "base_uri": "https://localhost:8080/"
        },
        "id": "XuCSIwP-8I1R",
        "outputId": "cf2a2349-636c-4bbb-a77e-78147ac024df"
      },
      "execution_count": null,
      "outputs": [
        {
          "output_type": "execute_result",
          "data": {
            "text/plain": [
              "Index(['Tipo', 'Descripcion', 'Habitaciones', 'Baños', 'Área', 'Barrio', 'UPZ',\n",
              "       'Valor'],\n",
              "      dtype='object')"
            ]
          },
          "metadata": {},
          "execution_count": 4
        }
      ]
    },
    {
      "cell_type": "markdown",
      "source": [],
      "metadata": {
        "id": "L_l0NVRK8p2s"
      }
    },
    {
      "cell_type": "code",
      "source": [
        "columnas ={'Baños': 'Banos','Area':'Area'}\n",
        "inmuebles = inmuebles.rename(columns=columnas)\n",
        "inmuebles.sample(10)"
      ],
      "metadata": {
        "colab": {
          "base_uri": "https://localhost:8080/",
          "height": 809
        },
        "id": "bPoRb7Sg8wyc",
        "outputId": "34605fef-9529-4a24-cba6-feb87135045c"
      },
      "execution_count": null,
      "outputs": [
        {
          "output_type": "execute_result",
          "data": {
            "text/plain": [
              "             Tipo                                 Descripcion  Habitaciones  \\\n",
              "502   Apartamento             Apartamento en venta en Usaquén             2   \n",
              "8294  Apartamento                Apartamento en venta en Suba             2   \n",
              "4552         Casa                Casa en venta en Santa Paula             4   \n",
              "1673  Apartamento           Apartamento en venta en Chapinero             2   \n",
              "4430  Apartamento            Apartamento en venta en San Luis             1   \n",
              "3810  Apartamento          Apartamento en venta en Cantagallo             3   \n",
              "7096  Apartamento  Apartamento en venta en Zona Noroccidental             3   \n",
              "7262  Apartamento             Apartamento en venta en Usaquén             3   \n",
              "2565  Apartamento         Apartamento en venta en Chico Norte             1   \n",
              "1290  Apartamento             Apartamento en venta en Usaquén             4   \n",
              "\n",
              "      Banos  Área              Barrio                                    UPZ  \\\n",
              "502       2    86             Usaquén                                Usaquén   \n",
              "8294      1    46                Suba                                   Suba   \n",
              "4552      3   220         Santa Paula  USAQUÉN: Country Club + Santa Bárbara   \n",
              "1673      3    99           Chapinero     CHAPINERO: Pardo Rubio + Chapinero   \n",
              "4430      2    49            San Luis                               Galerías   \n",
              "3810      2    88          Cantagallo                               Britalia   \n",
              "7096      2    79  Zona Noroccidental     CHAPINERO: Pardo Rubio + Chapinero   \n",
              "7262      2    59             Usaquén                                Usaquén   \n",
              "2565      1    76         Chico Norte     CHAPINERO: Chicó Lago + El Refugio   \n",
              "1290      5   330             Usaquén                                Usaquén   \n",
              "\n",
              "                Valor  \n",
              "502     $ 555.000.000  \n",
              "8294    $ 174.999.999  \n",
              "4552  $ 1.300.000.000  \n",
              "1673    $ 960.000.000  \n",
              "4430    $ 340.000.000  \n",
              "3810    $ 514.000.000  \n",
              "7096    $ 298.000.000  \n",
              "7262    $ 350.000.000  \n",
              "2565    $ 834.460.000  \n",
              "1290  $ 4.200.000.000  "
            ],
            "text/html": [
              "\n",
              "  <div id=\"df-d3054fb0-ce8f-41fb-8b06-78131b7f3312\">\n",
              "    <div class=\"colab-df-container\">\n",
              "      <div>\n",
              "<style scoped>\n",
              "    .dataframe tbody tr th:only-of-type {\n",
              "        vertical-align: middle;\n",
              "    }\n",
              "\n",
              "    .dataframe tbody tr th {\n",
              "        vertical-align: top;\n",
              "    }\n",
              "\n",
              "    .dataframe thead th {\n",
              "        text-align: right;\n",
              "    }\n",
              "</style>\n",
              "<table border=\"1\" class=\"dataframe\">\n",
              "  <thead>\n",
              "    <tr style=\"text-align: right;\">\n",
              "      <th></th>\n",
              "      <th>Tipo</th>\n",
              "      <th>Descripcion</th>\n",
              "      <th>Habitaciones</th>\n",
              "      <th>Banos</th>\n",
              "      <th>Área</th>\n",
              "      <th>Barrio</th>\n",
              "      <th>UPZ</th>\n",
              "      <th>Valor</th>\n",
              "    </tr>\n",
              "  </thead>\n",
              "  <tbody>\n",
              "    <tr>\n",
              "      <th>502</th>\n",
              "      <td>Apartamento</td>\n",
              "      <td>Apartamento en venta en Usaquén</td>\n",
              "      <td>2</td>\n",
              "      <td>2</td>\n",
              "      <td>86</td>\n",
              "      <td>Usaquén</td>\n",
              "      <td>Usaquén</td>\n",
              "      <td>$ 555.000.000</td>\n",
              "    </tr>\n",
              "    <tr>\n",
              "      <th>8294</th>\n",
              "      <td>Apartamento</td>\n",
              "      <td>Apartamento en venta en Suba</td>\n",
              "      <td>2</td>\n",
              "      <td>1</td>\n",
              "      <td>46</td>\n",
              "      <td>Suba</td>\n",
              "      <td>Suba</td>\n",
              "      <td>$ 174.999.999</td>\n",
              "    </tr>\n",
              "    <tr>\n",
              "      <th>4552</th>\n",
              "      <td>Casa</td>\n",
              "      <td>Casa en venta en Santa Paula</td>\n",
              "      <td>4</td>\n",
              "      <td>3</td>\n",
              "      <td>220</td>\n",
              "      <td>Santa Paula</td>\n",
              "      <td>USAQUÉN: Country Club + Santa Bárbara</td>\n",
              "      <td>$ 1.300.000.000</td>\n",
              "    </tr>\n",
              "    <tr>\n",
              "      <th>1673</th>\n",
              "      <td>Apartamento</td>\n",
              "      <td>Apartamento en venta en Chapinero</td>\n",
              "      <td>2</td>\n",
              "      <td>3</td>\n",
              "      <td>99</td>\n",
              "      <td>Chapinero</td>\n",
              "      <td>CHAPINERO: Pardo Rubio + Chapinero</td>\n",
              "      <td>$ 960.000.000</td>\n",
              "    </tr>\n",
              "    <tr>\n",
              "      <th>4430</th>\n",
              "      <td>Apartamento</td>\n",
              "      <td>Apartamento en venta en San Luis</td>\n",
              "      <td>1</td>\n",
              "      <td>2</td>\n",
              "      <td>49</td>\n",
              "      <td>San Luis</td>\n",
              "      <td>Galerías</td>\n",
              "      <td>$ 340.000.000</td>\n",
              "    </tr>\n",
              "    <tr>\n",
              "      <th>3810</th>\n",
              "      <td>Apartamento</td>\n",
              "      <td>Apartamento en venta en Cantagallo</td>\n",
              "      <td>3</td>\n",
              "      <td>2</td>\n",
              "      <td>88</td>\n",
              "      <td>Cantagallo</td>\n",
              "      <td>Britalia</td>\n",
              "      <td>$ 514.000.000</td>\n",
              "    </tr>\n",
              "    <tr>\n",
              "      <th>7096</th>\n",
              "      <td>Apartamento</td>\n",
              "      <td>Apartamento en venta en Zona Noroccidental</td>\n",
              "      <td>3</td>\n",
              "      <td>2</td>\n",
              "      <td>79</td>\n",
              "      <td>Zona Noroccidental</td>\n",
              "      <td>CHAPINERO: Pardo Rubio + Chapinero</td>\n",
              "      <td>$ 298.000.000</td>\n",
              "    </tr>\n",
              "    <tr>\n",
              "      <th>7262</th>\n",
              "      <td>Apartamento</td>\n",
              "      <td>Apartamento en venta en Usaquén</td>\n",
              "      <td>3</td>\n",
              "      <td>2</td>\n",
              "      <td>59</td>\n",
              "      <td>Usaquén</td>\n",
              "      <td>Usaquén</td>\n",
              "      <td>$ 350.000.000</td>\n",
              "    </tr>\n",
              "    <tr>\n",
              "      <th>2565</th>\n",
              "      <td>Apartamento</td>\n",
              "      <td>Apartamento en venta en Chico Norte</td>\n",
              "      <td>1</td>\n",
              "      <td>1</td>\n",
              "      <td>76</td>\n",
              "      <td>Chico Norte</td>\n",
              "      <td>CHAPINERO: Chicó Lago + El Refugio</td>\n",
              "      <td>$ 834.460.000</td>\n",
              "    </tr>\n",
              "    <tr>\n",
              "      <th>1290</th>\n",
              "      <td>Apartamento</td>\n",
              "      <td>Apartamento en venta en Usaquén</td>\n",
              "      <td>4</td>\n",
              "      <td>5</td>\n",
              "      <td>330</td>\n",
              "      <td>Usaquén</td>\n",
              "      <td>Usaquén</td>\n",
              "      <td>$ 4.200.000.000</td>\n",
              "    </tr>\n",
              "  </tbody>\n",
              "</table>\n",
              "</div>\n",
              "      <button class=\"colab-df-convert\" onclick=\"convertToInteractive('df-d3054fb0-ce8f-41fb-8b06-78131b7f3312')\"\n",
              "              title=\"Convert this dataframe to an interactive table.\"\n",
              "              style=\"display:none;\">\n",
              "        \n",
              "  <svg xmlns=\"http://www.w3.org/2000/svg\" height=\"24px\"viewBox=\"0 0 24 24\"\n",
              "       width=\"24px\">\n",
              "    <path d=\"M0 0h24v24H0V0z\" fill=\"none\"/>\n",
              "    <path d=\"M18.56 5.44l.94 2.06.94-2.06 2.06-.94-2.06-.94-.94-2.06-.94 2.06-2.06.94zm-11 1L8.5 8.5l.94-2.06 2.06-.94-2.06-.94L8.5 2.5l-.94 2.06-2.06.94zm10 10l.94 2.06.94-2.06 2.06-.94-2.06-.94-.94-2.06-.94 2.06-2.06.94z\"/><path d=\"M17.41 7.96l-1.37-1.37c-.4-.4-.92-.59-1.43-.59-.52 0-1.04.2-1.43.59L10.3 9.45l-7.72 7.72c-.78.78-.78 2.05 0 2.83L4 21.41c.39.39.9.59 1.41.59.51 0 1.02-.2 1.41-.59l7.78-7.78 2.81-2.81c.8-.78.8-2.07 0-2.86zM5.41 20L4 18.59l7.72-7.72 1.47 1.35L5.41 20z\"/>\n",
              "  </svg>\n",
              "      </button>\n",
              "      \n",
              "  <style>\n",
              "    .colab-df-container {\n",
              "      display:flex;\n",
              "      flex-wrap:wrap;\n",
              "      gap: 12px;\n",
              "    }\n",
              "\n",
              "    .colab-df-convert {\n",
              "      background-color: #E8F0FE;\n",
              "      border: none;\n",
              "      border-radius: 50%;\n",
              "      cursor: pointer;\n",
              "      display: none;\n",
              "      fill: #1967D2;\n",
              "      height: 32px;\n",
              "      padding: 0 0 0 0;\n",
              "      width: 32px;\n",
              "    }\n",
              "\n",
              "    .colab-df-convert:hover {\n",
              "      background-color: #E2EBFA;\n",
              "      box-shadow: 0px 1px 2px rgba(60, 64, 67, 0.3), 0px 1px 3px 1px rgba(60, 64, 67, 0.15);\n",
              "      fill: #174EA6;\n",
              "    }\n",
              "\n",
              "    [theme=dark] .colab-df-convert {\n",
              "      background-color: #3B4455;\n",
              "      fill: #D2E3FC;\n",
              "    }\n",
              "\n",
              "    [theme=dark] .colab-df-convert:hover {\n",
              "      background-color: #434B5C;\n",
              "      box-shadow: 0px 1px 3px 1px rgba(0, 0, 0, 0.15);\n",
              "      filter: drop-shadow(0px 1px 2px rgba(0, 0, 0, 0.3));\n",
              "      fill: #FFFFFF;\n",
              "    }\n",
              "  </style>\n",
              "\n",
              "      <script>\n",
              "        const buttonEl =\n",
              "          document.querySelector('#df-d3054fb0-ce8f-41fb-8b06-78131b7f3312 button.colab-df-convert');\n",
              "        buttonEl.style.display =\n",
              "          google.colab.kernel.accessAllowed ? 'block' : 'none';\n",
              "\n",
              "        async function convertToInteractive(key) {\n",
              "          const element = document.querySelector('#df-d3054fb0-ce8f-41fb-8b06-78131b7f3312');\n",
              "          const dataTable =\n",
              "            await google.colab.kernel.invokeFunction('convertToInteractive',\n",
              "                                                     [key], {});\n",
              "          if (!dataTable) return;\n",
              "\n",
              "          const docLinkHtml = 'Like what you see? Visit the ' +\n",
              "            '<a target=\"_blank\" href=https://colab.research.google.com/notebooks/data_table.ipynb>data table notebook</a>'\n",
              "            + ' to learn more about interactive tables.';\n",
              "          element.innerHTML = '';\n",
              "          dataTable['output_type'] = 'display_data';\n",
              "          await google.colab.output.renderOutput(dataTable, element);\n",
              "          const docLink = document.createElement('div');\n",
              "          docLink.innerHTML = docLinkHtml;\n",
              "          element.appendChild(docLink);\n",
              "        }\n",
              "      </script>\n",
              "    </div>\n",
              "  </div>\n",
              "  "
            ]
          },
          "metadata": {},
          "execution_count": 5
        }
      ]
    },
    {
      "cell_type": "code",
      "source": [
        "inmuebles.info()"
      ],
      "metadata": {
        "colab": {
          "base_uri": "https://localhost:8080/"
        },
        "id": "jR5l13h_-Rfx",
        "outputId": "daf6cba9-bccc-42d1-fef2-bf93e3dfdaec"
      },
      "execution_count": null,
      "outputs": [
        {
          "output_type": "stream",
          "name": "stdout",
          "text": [
            "<class 'pandas.core.frame.DataFrame'>\n",
            "RangeIndex: 9520 entries, 0 to 9519\n",
            "Data columns (total 8 columns):\n",
            " #   Column        Non-Null Count  Dtype \n",
            "---  ------        --------------  ----- \n",
            " 0   Tipo          9520 non-null   object\n",
            " 1   Descripcion   9520 non-null   object\n",
            " 2   Habitaciones  9520 non-null   int64 \n",
            " 3   Banos         9520 non-null   int64 \n",
            " 4   Área          9520 non-null   int64 \n",
            " 5   Barrio        9520 non-null   object\n",
            " 6   UPZ           9478 non-null   object\n",
            " 7   Valor         9520 non-null   object\n",
            "dtypes: int64(3), object(5)\n",
            "memory usage: 595.1+ KB\n"
          ]
        }
      ]
    },
    {
      "cell_type": "code",
      "source": [
        "inmuebles.iloc[300]"
      ],
      "metadata": {
        "colab": {
          "base_uri": "https://localhost:8080/"
        },
        "id": "VY96hWbdAEDi",
        "outputId": "f30e566c-4f35-4c6b-d17e-f23aa41ccf9c"
      },
      "execution_count": null,
      "outputs": [
        {
          "output_type": "execute_result",
          "data": {
            "text/plain": [
              "Tipo                                Apartamento\n",
              "Descripcion     Apartamento en venta en Kennedy\n",
              "Habitaciones                                  2\n",
              "Banos                                         1\n",
              "Área                                         42\n",
              "Barrio                                  Kennedy\n",
              "UPZ                             Kennedy Central\n",
              "Valor                             $ 116.100.000\n",
              "Name: 300, dtype: object"
            ]
          },
          "metadata": {},
          "execution_count": 8
        }
      ]
    },
    {
      "cell_type": "code",
      "source": [
        "inmuebles.iloc[300:305]"
      ],
      "metadata": {
        "colab": {
          "base_uri": "https://localhost:8080/",
          "height": 444
        },
        "id": "jczdijtWAZob",
        "outputId": "b7f178a4-b28e-40a2-8e7a-89e924fbe8fa"
      },
      "execution_count": null,
      "outputs": [
        {
          "output_type": "execute_result",
          "data": {
            "text/plain": [
              "            Tipo                          Descripcion  Habitaciones  Banos  \\\n",
              "300  Apartamento      Apartamento en venta en Kennedy             2      1   \n",
              "301  Apartamento  Apartamento en venta en Chico Norte             2      2   \n",
              "302  Apartamento      Apartamento en venta en Kennedy             3      2   \n",
              "303  Apartamento      Apartamento en venta en Kennedy             3      2   \n",
              "304  Apartamento     Apartamento en venta en Cedritos             4      4   \n",
              "\n",
              "     Área       Barrio                                 UPZ          Valor  \n",
              "300    42      Kennedy                     Kennedy Central  $ 116.100.000  \n",
              "301    95  Chico Norte  CHAPINERO: Chicó Lago + El Refugio  $ 980.000.000  \n",
              "302    54      Kennedy                     Kennedy Central  $ 237.000.000  \n",
              "303    67      Kennedy                     Kennedy Central  $ 320.000.000  \n",
              "304   132     Cedritos                             Usaquén  $ 530.000.000  "
            ],
            "text/html": [
              "\n",
              "  <div id=\"df-e401f834-4607-4425-a2c0-e8b6c8fc31d9\">\n",
              "    <div class=\"colab-df-container\">\n",
              "      <div>\n",
              "<style scoped>\n",
              "    .dataframe tbody tr th:only-of-type {\n",
              "        vertical-align: middle;\n",
              "    }\n",
              "\n",
              "    .dataframe tbody tr th {\n",
              "        vertical-align: top;\n",
              "    }\n",
              "\n",
              "    .dataframe thead th {\n",
              "        text-align: right;\n",
              "    }\n",
              "</style>\n",
              "<table border=\"1\" class=\"dataframe\">\n",
              "  <thead>\n",
              "    <tr style=\"text-align: right;\">\n",
              "      <th></th>\n",
              "      <th>Tipo</th>\n",
              "      <th>Descripcion</th>\n",
              "      <th>Habitaciones</th>\n",
              "      <th>Banos</th>\n",
              "      <th>Área</th>\n",
              "      <th>Barrio</th>\n",
              "      <th>UPZ</th>\n",
              "      <th>Valor</th>\n",
              "    </tr>\n",
              "  </thead>\n",
              "  <tbody>\n",
              "    <tr>\n",
              "      <th>300</th>\n",
              "      <td>Apartamento</td>\n",
              "      <td>Apartamento en venta en Kennedy</td>\n",
              "      <td>2</td>\n",
              "      <td>1</td>\n",
              "      <td>42</td>\n",
              "      <td>Kennedy</td>\n",
              "      <td>Kennedy Central</td>\n",
              "      <td>$ 116.100.000</td>\n",
              "    </tr>\n",
              "    <tr>\n",
              "      <th>301</th>\n",
              "      <td>Apartamento</td>\n",
              "      <td>Apartamento en venta en Chico Norte</td>\n",
              "      <td>2</td>\n",
              "      <td>2</td>\n",
              "      <td>95</td>\n",
              "      <td>Chico Norte</td>\n",
              "      <td>CHAPINERO: Chicó Lago + El Refugio</td>\n",
              "      <td>$ 980.000.000</td>\n",
              "    </tr>\n",
              "    <tr>\n",
              "      <th>302</th>\n",
              "      <td>Apartamento</td>\n",
              "      <td>Apartamento en venta en Kennedy</td>\n",
              "      <td>3</td>\n",
              "      <td>2</td>\n",
              "      <td>54</td>\n",
              "      <td>Kennedy</td>\n",
              "      <td>Kennedy Central</td>\n",
              "      <td>$ 237.000.000</td>\n",
              "    </tr>\n",
              "    <tr>\n",
              "      <th>303</th>\n",
              "      <td>Apartamento</td>\n",
              "      <td>Apartamento en venta en Kennedy</td>\n",
              "      <td>3</td>\n",
              "      <td>2</td>\n",
              "      <td>67</td>\n",
              "      <td>Kennedy</td>\n",
              "      <td>Kennedy Central</td>\n",
              "      <td>$ 320.000.000</td>\n",
              "    </tr>\n",
              "    <tr>\n",
              "      <th>304</th>\n",
              "      <td>Apartamento</td>\n",
              "      <td>Apartamento en venta en Cedritos</td>\n",
              "      <td>4</td>\n",
              "      <td>4</td>\n",
              "      <td>132</td>\n",
              "      <td>Cedritos</td>\n",
              "      <td>Usaquén</td>\n",
              "      <td>$ 530.000.000</td>\n",
              "    </tr>\n",
              "  </tbody>\n",
              "</table>\n",
              "</div>\n",
              "      <button class=\"colab-df-convert\" onclick=\"convertToInteractive('df-e401f834-4607-4425-a2c0-e8b6c8fc31d9')\"\n",
              "              title=\"Convert this dataframe to an interactive table.\"\n",
              "              style=\"display:none;\">\n",
              "        \n",
              "  <svg xmlns=\"http://www.w3.org/2000/svg\" height=\"24px\"viewBox=\"0 0 24 24\"\n",
              "       width=\"24px\">\n",
              "    <path d=\"M0 0h24v24H0V0z\" fill=\"none\"/>\n",
              "    <path d=\"M18.56 5.44l.94 2.06.94-2.06 2.06-.94-2.06-.94-.94-2.06-.94 2.06-2.06.94zm-11 1L8.5 8.5l.94-2.06 2.06-.94-2.06-.94L8.5 2.5l-.94 2.06-2.06.94zm10 10l.94 2.06.94-2.06 2.06-.94-2.06-.94-.94-2.06-.94 2.06-2.06.94z\"/><path d=\"M17.41 7.96l-1.37-1.37c-.4-.4-.92-.59-1.43-.59-.52 0-1.04.2-1.43.59L10.3 9.45l-7.72 7.72c-.78.78-.78 2.05 0 2.83L4 21.41c.39.39.9.59 1.41.59.51 0 1.02-.2 1.41-.59l7.78-7.78 2.81-2.81c.8-.78.8-2.07 0-2.86zM5.41 20L4 18.59l7.72-7.72 1.47 1.35L5.41 20z\"/>\n",
              "  </svg>\n",
              "      </button>\n",
              "      \n",
              "  <style>\n",
              "    .colab-df-container {\n",
              "      display:flex;\n",
              "      flex-wrap:wrap;\n",
              "      gap: 12px;\n",
              "    }\n",
              "\n",
              "    .colab-df-convert {\n",
              "      background-color: #E8F0FE;\n",
              "      border: none;\n",
              "      border-radius: 50%;\n",
              "      cursor: pointer;\n",
              "      display: none;\n",
              "      fill: #1967D2;\n",
              "      height: 32px;\n",
              "      padding: 0 0 0 0;\n",
              "      width: 32px;\n",
              "    }\n",
              "\n",
              "    .colab-df-convert:hover {\n",
              "      background-color: #E2EBFA;\n",
              "      box-shadow: 0px 1px 2px rgba(60, 64, 67, 0.3), 0px 1px 3px 1px rgba(60, 64, 67, 0.15);\n",
              "      fill: #174EA6;\n",
              "    }\n",
              "\n",
              "    [theme=dark] .colab-df-convert {\n",
              "      background-color: #3B4455;\n",
              "      fill: #D2E3FC;\n",
              "    }\n",
              "\n",
              "    [theme=dark] .colab-df-convert:hover {\n",
              "      background-color: #434B5C;\n",
              "      box-shadow: 0px 1px 3px 1px rgba(0, 0, 0, 0.15);\n",
              "      filter: drop-shadow(0px 1px 2px rgba(0, 0, 0, 0.3));\n",
              "      fill: #FFFFFF;\n",
              "    }\n",
              "  </style>\n",
              "\n",
              "      <script>\n",
              "        const buttonEl =\n",
              "          document.querySelector('#df-e401f834-4607-4425-a2c0-e8b6c8fc31d9 button.colab-df-convert');\n",
              "        buttonEl.style.display =\n",
              "          google.colab.kernel.accessAllowed ? 'block' : 'none';\n",
              "\n",
              "        async function convertToInteractive(key) {\n",
              "          const element = document.querySelector('#df-e401f834-4607-4425-a2c0-e8b6c8fc31d9');\n",
              "          const dataTable =\n",
              "            await google.colab.kernel.invokeFunction('convertToInteractive',\n",
              "                                                     [key], {});\n",
              "          if (!dataTable) return;\n",
              "\n",
              "          const docLinkHtml = 'Like what you see? Visit the ' +\n",
              "            '<a target=\"_blank\" href=https://colab.research.google.com/notebooks/data_table.ipynb>data table notebook</a>'\n",
              "            + ' to learn more about interactive tables.';\n",
              "          element.innerHTML = '';\n",
              "          dataTable['output_type'] = 'display_data';\n",
              "          await google.colab.output.renderOutput(dataTable, element);\n",
              "          const docLink = document.createElement('div');\n",
              "          docLink.innerHTML = docLinkHtml;\n",
              "          element.appendChild(docLink);\n",
              "        }\n",
              "      </script>\n",
              "    </div>\n",
              "  </div>\n",
              "  "
            ]
          },
          "metadata": {},
          "execution_count": 10
        }
      ]
    },
    {
      "cell_type": "code",
      "source": [
        "inmuebles['Valor'][300:305]"
      ],
      "metadata": {
        "colab": {
          "base_uri": "https://localhost:8080/"
        },
        "id": "kfWSAEanArSu",
        "outputId": "ad15e344-4f24-45ab-acfd-f16d22028982"
      },
      "execution_count": null,
      "outputs": [
        {
          "output_type": "execute_result",
          "data": {
            "text/plain": [
              "300    $ 116.100.000\n",
              "301    $ 980.000.000\n",
              "302    $ 237.000.000\n",
              "303    $ 320.000.000\n",
              "304    $ 530.000.000\n",
              "Name: Valor, dtype: object"
            ]
          },
          "metadata": {},
          "execution_count": 12
        }
      ]
    },
    {
      "cell_type": "code",
      "source": [
        "type(inmuebles['Valor'][300:305])"
      ],
      "metadata": {
        "colab": {
          "base_uri": "https://localhost:8080/"
        },
        "id": "9ANWhmsjA6--",
        "outputId": "74234ba3-59d7-445f-c562-bdb478678b58"
      },
      "execution_count": null,
      "outputs": [
        {
          "output_type": "execute_result",
          "data": {
            "text/plain": [
              "pandas.core.series.Series"
            ]
          },
          "metadata": {},
          "execution_count": 13
        }
      ]
    },
    {
      "cell_type": "code",
      "source": [
        "inmuebles.Área.mean()"
      ],
      "metadata": {
        "colab": {
          "base_uri": "https://localhost:8080/"
        },
        "id": "MFRBGvjyBXqM",
        "outputId": "f416f5ad-d11c-4be7-edea-c460231fee9b"
      },
      "execution_count": null,
      "outputs": [
        {
          "output_type": "execute_result",
          "data": {
            "text/plain": [
              "146.66470588235293"
            ]
          },
          "metadata": {},
          "execution_count": 15
        }
      ]
    },
    {
      "cell_type": "code",
      "source": [
        "(inmuebles.Barrio == 'Bella Suiza')"
      ],
      "metadata": {
        "colab": {
          "base_uri": "https://localhost:8080/"
        },
        "id": "tXCR636eCD8f",
        "outputId": "8f97d4c4-474e-4a46-d9f3-ff90f2b5d47d"
      },
      "execution_count": null,
      "outputs": [
        {
          "output_type": "execute_result",
          "data": {
            "text/plain": [
              "0       False\n",
              "1       False\n",
              "2       False\n",
              "3       False\n",
              "4        True\n",
              "        ...  \n",
              "9515    False\n",
              "9516    False\n",
              "9517    False\n",
              "9518    False\n",
              "9519    False\n",
              "Name: Barrio, Length: 9520, dtype: bool"
            ]
          },
          "metadata": {},
          "execution_count": 16
        }
      ]
    },
    {
      "cell_type": "code",
      "source": [
        "(sum(inmuebles.Barrio == 'Chico Reservado'))"
      ],
      "metadata": {
        "colab": {
          "base_uri": "https://localhost:8080/"
        },
        "id": "-U3Rbd-wCp80",
        "outputId": "fac845f9-ecfe-4db5-ce9b-b29a7d717cfc"
      },
      "execution_count": null,
      "outputs": [
        {
          "output_type": "execute_result",
          "data": {
            "text/plain": [
              "225"
            ]
          },
          "metadata": {},
          "execution_count": 25
        }
      ]
    },
    {
      "cell_type": "code",
      "source": [
        "inmuebles_chico =(inmuebles.Barrio =='Chico Reservado')\n",
        "type ('inmuebles_chico')"
      ],
      "metadata": {
        "colab": {
          "base_uri": "https://localhost:8080/"
        },
        "id": "kq4Mt9uwEfl6",
        "outputId": "8b7ca499-b831-436e-8a22-52089e8a4a14"
      },
      "execution_count": null,
      "outputs": [
        {
          "output_type": "execute_result",
          "data": {
            "text/plain": [
              "str"
            ]
          },
          "metadata": {},
          "execution_count": 27
        }
      ]
    },
    {
      "cell_type": "code",
      "source": [
        "chico_reservado = inmuebles[inmuebles_chico]\n"
      ],
      "metadata": {
        "id": "8ipw1HqxD2Gj"
      },
      "execution_count": null,
      "outputs": []
    },
    {
      "cell_type": "code",
      "source": [
        "(inmuebles.Barrio.value_counts())"
      ],
      "metadata": {
        "colab": {
          "base_uri": "https://localhost:8080/"
        },
        "id": "Qg56lQxJF3Vu",
        "outputId": "9822e247-4625-4dd4-9a31-9239db09acef"
      },
      "execution_count": null,
      "outputs": [
        {
          "output_type": "execute_result",
          "data": {
            "text/plain": [
              "Usaquén               1105\n",
              "Zona Noroccidental     877\n",
              "Bosa                   589\n",
              "Kennedy                589\n",
              "Cedritos               554\n",
              "                      ... \n",
              "Colinas De Suba          1\n",
              "La Estanzuela            1\n",
              "Roma                     1\n",
              "Alameda                  1\n",
              "Prado Veraniego          1\n",
              "Name: Barrio, Length: 149, dtype: int64"
            ]
          },
          "metadata": {},
          "execution_count": 30
        }
      ]
    },
    {
      "cell_type": "code",
      "source": [
        "len(inmuebles.UPZ.value_counts())"
      ],
      "metadata": {
        "colab": {
          "base_uri": "https://localhost:8080/"
        },
        "id": "O-NDfc6jGNPx",
        "outputId": "1b8c7f21-044a-4b47-a599-77fbf8662146"
      },
      "execution_count": null,
      "outputs": [
        {
          "output_type": "execute_result",
          "data": {
            "text/plain": [
              "63"
            ]
          },
          "metadata": {},
          "execution_count": 32
        }
      ]
    },
    {
      "cell_type": "code",
      "source": [
        "inmuebles_barrio = inmuebles.Barrio.value_counts()\n",
        "inmuebles_barrio.plot.bar()"
      ],
      "metadata": {
        "colab": {
          "base_uri": "https://localhost:8080/",
          "height": 388
        },
        "id": "o4zHdMkSGjey",
        "outputId": "ef562ce0-2c92-4007-8975-507991c81372"
      },
      "execution_count": null,
      "outputs": [
        {
          "output_type": "execute_result",
          "data": {
            "text/plain": [
              "<Axes: >"
            ]
          },
          "metadata": {},
          "execution_count": 35
        },
        {
          "output_type": "display_data",
          "data": {
            "text/plain": [
              "<Figure size 432x288 with 1 Axes>"
            ],
            "image/png": "[encoded data removed]"
          },
          "metadata": {
            "needs_background": "light"
          }
        }
      ]
    },
    {
      "cell_type": "code",
      "source": [
        "inmuebles_barrio.head(10).plot.bar()"
      ],
      "metadata": {
        "colab": {
          "base_uri": "https://localhost:8080/",
          "height": 370
        },
        "id": "XR-Eq1WQHO2I",
        "outputId": "8c6270c0-75fd-49eb-8041-2ebd8fd01f83"
      },
      "execution_count": null,
      "outputs": [
        {
          "output_type": "execute_result",
          "data": {
            "text/plain": [
              "<Axes: >"
            ]
          },
          "metadata": {},
          "execution_count": 36
        },
        {
          "output_type": "display_data",
          "data": {
            "text/plain": [
              "<Figure size 432x288 with 1 Axes>"
            ],
            "image/png": "[encoded data removed]"
          },
          "metadata": {
            "needs_background": "light"
          }
        }
      ]
    },
    {
      "cell_type": "markdown",
      "source": [
        "Clase 2"
      ],
      "metadata": {
        "id": "AnYsmCyrHJ1O"
      }
    },
    {
      "cell_type": "code",
      "source": [
        "inmuebles.sample(5)"
      ],
      "metadata": {
        "colab": {
          "base_uri": "https://localhost:8080/",
          "height": 444
        },
        "id": "G5zU7O8XHTLx",
        "outputId": "f53ffa47-f8b1-495c-e1a8-10647eb02828"
      },
      "execution_count": 6,
      "outputs": [
        {
          "output_type": "execute_result",
          "data": {
            "text/plain": [
              "             Tipo                      Descripcion  Habitaciones  Baños  Área  \\\n",
              "6665  Apartamento  Apartamento en venta en Usaquén             4      7   450   \n",
              "7206         Casa         Casa en venta en Kennedy             2      1    44   \n",
              "7564  Apartamento  Apartamento en venta en Usaquén             3      2    89   \n",
              "5312  Apartamento     Apartamento en venta en Bosa             3      1    47   \n",
              "3229         Casa     Casa en venta en La Soledad             11      1   520   \n",
              "\n",
              "           Barrio              UPZ            Valor  \n",
              "6665      Usaquén          Usaquén  $ 2.200.000.000  \n",
              "7206      Kennedy  Kennedy Central    $ 118.000.000  \n",
              "7564      Usaquén          Usaquén    $ 500.000.000  \n",
              "5312         Bosa     Bosa Central    $ 136.000.000  \n",
              "3229  La Soledad       Teusaquillo  $ 1.500.000.000  "
            ],
            "text/html": [
              "\n",
              "  <div id=\"df-be517601-0962-461a-837b-e413c6ee2981\">\n",
              "    <div class=\"colab-df-container\">\n",
              "      <div>\n",
              "<style scoped>\n",
              "    .dataframe tbody tr th:only-of-type {\n",
              "        vertical-align: middle;\n",
              "    }\n",
              "\n",
              "    .dataframe tbody tr th {\n",
              "        vertical-align: top;\n",
              "    }\n",
              "\n",
              "    .dataframe thead th {\n",
              "        text-align: right;\n",
              "    }\n",
              "</style>\n",
              "<table border=\"1\" class=\"dataframe\">\n",
              "  <thead>\n",
              "    <tr style=\"text-align: right;\">\n",
              "      <th></th>\n",
              "      <th>Tipo</th>\n",
              "      <th>Descripcion</th>\n",
              "      <th>Habitaciones</th>\n",
              "      <th>Baños</th>\n",
              "      <th>Área</th>\n",
              "      <th>Barrio</th>\n",
              "      <th>UPZ</th>\n",
              "      <th>Valor</th>\n",
              "    </tr>\n",
              "  </thead>\n",
              "  <tbody>\n",
              "    <tr>\n",
              "      <th>6665</th>\n",
              "      <td>Apartamento</td>\n",
              "      <td>Apartamento en venta en Usaquén</td>\n",
              "      <td>4</td>\n",
              "      <td>7</td>\n",
              "      <td>450</td>\n",
              "      <td>Usaquén</td>\n",
              "      <td>Usaquén</td>\n",
              "      <td>$ 2.200.000.000</td>\n",
              "    </tr>\n",
              "    <tr>\n",
              "      <th>7206</th>\n",
              "      <td>Casa</td>\n",
              "      <td>Casa en venta en Kennedy</td>\n",
              "      <td>2</td>\n",
              "      <td>1</td>\n",
              "      <td>44</td>\n",
              "      <td>Kennedy</td>\n",
              "      <td>Kennedy Central</td>\n",
              "      <td>$ 118.000.000</td>\n",
              "    </tr>\n",
              "    <tr>\n",
              "      <th>7564</th>\n",
              "      <td>Apartamento</td>\n",
              "      <td>Apartamento en venta en Usaquén</td>\n",
              "      <td>3</td>\n",
              "      <td>2</td>\n",
              "      <td>89</td>\n",
              "      <td>Usaquén</td>\n",
              "      <td>Usaquén</td>\n",
              "      <td>$ 500.000.000</td>\n",
              "    </tr>\n",
              "    <tr>\n",
              "      <th>5312</th>\n",
              "      <td>Apartamento</td>\n",
              "      <td>Apartamento en venta en Bosa</td>\n",
              "      <td>3</td>\n",
              "      <td>1</td>\n",
              "      <td>47</td>\n",
              "      <td>Bosa</td>\n",
              "      <td>Bosa Central</td>\n",
              "      <td>$ 136.000.000</td>\n",
              "    </tr>\n",
              "    <tr>\n",
              "      <th>3229</th>\n",
              "      <td>Casa</td>\n",
              "      <td>Casa en venta en La Soledad</td>\n",
              "      <td>11</td>\n",
              "      <td>1</td>\n",
              "      <td>520</td>\n",
              "      <td>La Soledad</td>\n",
              "      <td>Teusaquillo</td>\n",
              "      <td>$ 1.500.000.000</td>\n",
              "    </tr>\n",
              "  </tbody>\n",
              "</table>\n",
              "</div>\n",
              "      <button class=\"colab-df-convert\" onclick=\"convertToInteractive('df-be517601-0962-461a-837b-e413c6ee2981')\"\n",
              "              title=\"Convert this dataframe to an interactive table.\"\n",
              "              style=\"display:none;\">\n",
              "        \n",
              "  <svg xmlns=\"http://www.w3.org/2000/svg\" height=\"24px\"viewBox=\"0 0 24 24\"\n",
              "       width=\"24px\">\n",
              "    <path d=\"M0 0h24v24H0V0z\" fill=\"none\"/>\n",
              "    <path d=\"M18.56 5.44l.94 2.06.94-2.06 2.06-.94-2.06-.94-.94-2.06-.94 2.06-2.06.94zm-11 1L8.5 8.5l.94-2.06 2.06-.94-2.06-.94L8.5 2.5l-.94 2.06-2.06.94zm10 10l.94 2.06.94-2.06 2.06-.94-2.06-.94-.94-2.06-.94 2.06-2.06.94z\"/><path d=\"M17.41 7.96l-1.37-1.37c-.4-.4-.92-.59-1.43-.59-.52 0-1.04.2-1.43.59L10.3 9.45l-7.72 7.72c-.78.78-.78 2.05 0 2.83L4 21.41c.39.39.9.59 1.41.59.51 0 1.02-.2 1.41-.59l7.78-7.78 2.81-2.81c.8-.78.8-2.07 0-2.86zM5.41 20L4 18.59l7.72-7.72 1.47 1.35L5.41 20z\"/>\n",
              "  </svg>\n",
              "      </button>\n",
              "      \n",
              "  <style>\n",
              "    .colab-df-container {\n",
              "      display:flex;\n",
              "      flex-wrap:wrap;\n",
              "      gap: 12px;\n",
              "    }\n",
              "\n",
              "    .colab-df-convert {\n",
              "      background-color: #E8F0FE;\n",
              "      border: none;\n",
              "      border-radius: 50%;\n",
              "      cursor: pointer;\n",
              "      display: none;\n",
              "      fill: #1967D2;\n",
              "      height: 32px;\n",
              "      padding: 0 0 0 0;\n",
              "      width: 32px;\n",
              "    }\n",
              "\n",
              "    .colab-df-convert:hover {\n",
              "      background-color: #E2EBFA;\n",
              "      box-shadow: 0px 1px 2px rgba(60, 64, 67, 0.3), 0px 1px 3px 1px rgba(60, 64, 67, 0.15);\n",
              "      fill: #174EA6;\n",
              "    }\n",
              "\n",
              "    [theme=dark] .colab-df-convert {\n",
              "      background-color: #3B4455;\n",
              "      fill: #D2E3FC;\n",
              "    }\n",
              "\n",
              "    [theme=dark] .colab-df-convert:hover {\n",
              "      background-color: #434B5C;\n",
              "      box-shadow: 0px 1px 3px 1px rgba(0, 0, 0, 0.15);\n",
              "      filter: drop-shadow(0px 1px 2px rgba(0, 0, 0, 0.3));\n",
              "      fill: #FFFFFF;\n",
              "    }\n",
              "  </style>\n",
              "\n",
              "      <script>\n",
              "        const buttonEl =\n",
              "          document.querySelector('#df-be517601-0962-461a-837b-e413c6ee2981 button.colab-df-convert');\n",
              "        buttonEl.style.display =\n",
              "          google.colab.kernel.accessAllowed ? 'block' : 'none';\n",
              "\n",
              "        async function convertToInteractive(key) {\n",
              "          const element = document.querySelector('#df-be517601-0962-461a-837b-e413c6ee2981');\n",
              "          const dataTable =\n",
              "            await google.colab.kernel.invokeFunction('convertToInteractive',\n",
              "                                                     [key], {});\n",
              "          if (!dataTable) return;\n",
              "\n",
              "          const docLinkHtml = 'Like what you see? Visit the ' +\n",
              "            '<a target=\"_blank\" href=https://colab.research.google.com/notebooks/data_table.ipynb>data table notebook</a>'\n",
              "            + ' to learn more about interactive tables.';\n",
              "          element.innerHTML = '';\n",
              "          dataTable['output_type'] = 'display_data';\n",
              "          await google.colab.output.renderOutput(dataTable, element);\n",
              "          const docLink = document.createElement('div');\n",
              "          docLink.innerHTML = docLinkHtml;\n",
              "          element.appendChild(docLink);\n",
              "        }\n",
              "      </script>\n",
              "    </div>\n",
              "  </div>\n",
              "  "
            ]
          },
          "metadata": {},
          "execution_count": 6
        }
      ]
    },
    {
      "cell_type": "code",
      "source": [
        "inmuebles.info()"
      ],
      "metadata": {
        "colab": {
          "base_uri": "https://localhost:8080/"
        },
        "id": "Re_BAFIoIsva",
        "outputId": "978c91df-4ad4-4731-b6a6-a5d0154478c1"
      },
      "execution_count": 10,
      "outputs": [
        {
          "output_type": "stream",
          "name": "stdout",
          "text": [
            "<class 'pandas.core.frame.DataFrame'>\n",
            "RangeIndex: 9520 entries, 0 to 9519\n",
            "Data columns (total 8 columns):\n",
            " #   Column        Non-Null Count  Dtype \n",
            "---  ------        --------------  ----- \n",
            " 0   Tipo          9520 non-null   object\n",
            " 1   Descripcion   9520 non-null   object\n",
            " 2   Habitaciones  9520 non-null   int64 \n",
            " 3   Baños         9520 non-null   int64 \n",
            " 4   Área          9520 non-null   int64 \n",
            " 5   Barrio        9520 non-null   object\n",
            " 6   UPZ           9478 non-null   object\n",
            " 7   Valor         9520 non-null   object\n",
            "dtypes: int64(3), object(5)\n",
            "memory usage: 595.1+ KB\n"
          ]
        }
      ]
    },
    {
      "cell_type": "code",
      "source": [
        "inmuebles.Valor[0]"
      ],
      "metadata": {
        "colab": {
          "base_uri": "https://localhost:8080/",
          "height": 35
        },
        "id": "a23Vn4a7JTS0",
        "outputId": "3d3054e1-b31e-4a47-c7ca-4aab758ff2ed"
      },
      "execution_count": 11,
      "outputs": [
        {
          "output_type": "execute_result",
          "data": {
            "text/plain": [
              "'$ 360.000.000'"
            ],
            "application/vnd.google.colaboratory.intrinsic+json": {
              "type": "string"
            }
          },
          "metadata": {},
          "execution_count": 11
        }
      ]
    },
    {
      "cell_type": "code",
      "source": [
        "inmuebles.Valor[0] + inmuebles.Valor[1] + inmuebles.Valor[:5]"
      ],
      "metadata": {
        "colab": {
          "base_uri": "https://localhost:8080/"
        },
        "id": "8CwjZrLPJdgI",
        "outputId": "e6d0f784-fb12-4c07-d2de-a3e8de73fc98"
      },
      "execution_count": 14,
      "outputs": [
        {
          "output_type": "execute_result",
          "data": {
            "text/plain": [
              "0      $ 360.000.000$ 670.000.000$ 360.000.000\n",
              "1      $ 360.000.000$ 670.000.000$ 670.000.000\n",
              "2    $ 360.000.000$ 670.000.000$ 1.120.000.000\n",
              "3      $ 360.000.000$ 670.000.000$ 890.000.000\n",
              "4      $ 360.000.000$ 670.000.000$ 970.000.000\n",
              "Name: Valor, dtype: object"
            ]
          },
          "metadata": {},
          "execution_count": 14
        }
      ]
    },
    {
      "cell_type": "code",
      "source": [
        "inmuebles.Valor[0].split()"
      ],
      "metadata": {
        "colab": {
          "base_uri": "https://localhost:8080/"
        },
        "id": "JPvTwXnMKBht",
        "outputId": "59afc8c4-48d6-414e-d194-dff3f6cf640b"
      },
      "execution_count": 27,
      "outputs": [
        {
          "output_type": "execute_result",
          "data": {
            "text/plain": [
              "['$', '360.000.000']"
            ]
          },
          "metadata": {},
          "execution_count": 27
        }
      ]
    },
    {
      "cell_type": "code",
      "source": [
        "valor = inmuebles.Valor.str.split(expand=True)\n",
        "inmuebles['Moneda'] = valor[0]\n",
        "inmuebles['Precio'] = valor[1]\n",
        "inmuebles.sample(3)"
      ],
      "metadata": {
        "colab": {
          "base_uri": "https://localhost:8080/",
          "height": 364
        },
        "id": "pMhgYyYnQjx2",
        "outputId": "9c78fe4e-eb50-4a33-d88c-a6826481aedc"
      },
      "execution_count": 59,
      "outputs": [
        {
          "output_type": "execute_result",
          "data": {
            "text/plain": [
              "             Tipo                                 Descripcion  Habitaciones  \\\n",
              "698   Apartamento  Apartamento en venta en Portales Del Norte             3   \n",
              "6582  Apartamento            Apartamento en venta en Cedritos             2   \n",
              "117   Apartamento       Apartamento en venta en Santa Barbara             2   \n",
              "\n",
              "      Baños  Área              Barrio                                    UPZ  \\\n",
              "698       2    83  Portales Del Norte                               Britalia   \n",
              "6582      1    49            Cedritos                                Usaquén   \n",
              "117       3    85       Santa Barbara  USAQUÉN: Country Club + Santa Bárbara   \n",
              "\n",
              "              Valor Moneda       Precio  Precio_Millon  \n",
              "698   $ 390.000.000      $  390.000.000         390.00  \n",
              "6582  $ 265.000.000      $  265.000.000         265.00  \n",
              "117   $ 519.000.000      $  519.000.000         519.00  "
            ],
            "text/html": [
              "\n",
              "  <div id=\"df-1a5cfbfd-753d-4262-9753-4f5ed137e710\">\n",
              "    <div class=\"colab-df-container\">\n",
              "      <div>\n",
              "<style scoped>\n",
              "    .dataframe tbody tr th:only-of-type {\n",
              "        vertical-align: middle;\n",
              "    }\n",
              "\n",
              "    .dataframe tbody tr th {\n",
              "        vertical-align: top;\n",
              "    }\n",
              "\n",
              "    .dataframe thead th {\n",
              "        text-align: right;\n",
              "    }\n",
              "</style>\n",
              "<table border=\"1\" class=\"dataframe\">\n",
              "  <thead>\n",
              "    <tr style=\"text-align: right;\">\n",
              "      <th></th>\n",
              "      <th>Tipo</th>\n",
              "      <th>Descripcion</th>\n",
              "      <th>Habitaciones</th>\n",
              "      <th>Baños</th>\n",
              "      <th>Área</th>\n",
              "      <th>Barrio</th>\n",
              "      <th>UPZ</th>\n",
              "      <th>Valor</th>\n",
              "      <th>Moneda</th>\n",
              "      <th>Precio</th>\n",
              "      <th>Precio_Millon</th>\n",
              "    </tr>\n",
              "  </thead>\n",
              "  <tbody>\n",
              "    <tr>\n",
              "      <th>698</th>\n",
              "      <td>Apartamento</td>\n",
              "      <td>Apartamento en venta en Portales Del Norte</td>\n",
              "      <td>3</td>\n",
              "      <td>2</td>\n",
              "      <td>83</td>\n",
              "      <td>Portales Del Norte</td>\n",
              "      <td>Britalia</td>\n",
              "      <td>$ 390.000.000</td>\n",
              "      <td>$</td>\n",
              "      <td>390.000.000</td>\n",
              "      <td>390.00</td>\n",
              "    </tr>\n",
              "    <tr>\n",
              "      <th>6582</th>\n",
              "      <td>Apartamento</td>\n",
              "      <td>Apartamento en venta en Cedritos</td>\n",
              "      <td>2</td>\n",
              "      <td>1</td>\n",
              "      <td>49</td>\n",
              "      <td>Cedritos</td>\n",
              "      <td>Usaquén</td>\n",
              "      <td>$ 265.000.000</td>\n",
              "      <td>$</td>\n",
              "      <td>265.000.000</td>\n",
              "      <td>265.00</td>\n",
              "    </tr>\n",
              "    <tr>\n",
              "      <th>117</th>\n",
              "      <td>Apartamento</td>\n",
              "      <td>Apartamento en venta en Santa Barbara</td>\n",
              "      <td>2</td>\n",
              "      <td>3</td>\n",
              "      <td>85</td>\n",
              "      <td>Santa Barbara</td>\n",
              "      <td>USAQUÉN: Country Club + Santa Bárbara</td>\n",
              "      <td>$ 519.000.000</td>\n",
              "      <td>$</td>\n",
              "      <td>519.000.000</td>\n",
              "      <td>519.00</td>\n",
              "    </tr>\n",
              "  </tbody>\n",
              "</table>\n",
              "</div>\n",
              "      <button class=\"colab-df-convert\" onclick=\"convertToInteractive('df-1a5cfbfd-753d-4262-9753-4f5ed137e710')\"\n",
              "              title=\"Convert this dataframe to an interactive table.\"\n",
              "              style=\"display:none;\">\n",
              "        \n",
              "  <svg xmlns=\"http://www.w3.org/2000/svg\" height=\"24px\"viewBox=\"0 0 24 24\"\n",
              "       width=\"24px\">\n",
              "    <path d=\"M0 0h24v24H0V0z\" fill=\"none\"/>\n",
              "    <path d=\"M18.56 5.44l.94 2.06.94-2.06 2.06-.94-2.06-.94-.94-2.06-.94 2.06-2.06.94zm-11 1L8.5 8.5l.94-2.06 2.06-.94-2.06-.94L8.5 2.5l-.94 2.06-2.06.94zm10 10l.94 2.06.94-2.06 2.06-.94-2.06-.94-.94-2.06-.94 2.06-2.06.94z\"/><path d=\"M17.41 7.96l-1.37-1.37c-.4-.4-.92-.59-1.43-.59-.52 0-1.04.2-1.43.59L10.3 9.45l-7.72 7.72c-.78.78-.78 2.05 0 2.83L4 21.41c.39.39.9.59 1.41.59.51 0 1.02-.2 1.41-.59l7.78-7.78 2.81-2.81c.8-.78.8-2.07 0-2.86zM5.41 20L4 18.59l7.72-7.72 1.47 1.35L5.41 20z\"/>\n",
              "  </svg>\n",
              "      </button>\n",
              "      \n",
              "  <style>\n",
              "    .colab-df-container {\n",
              "      display:flex;\n",
              "      flex-wrap:wrap;\n",
              "      gap: 12px;\n",
              "    }\n",
              "\n",
              "    .colab-df-convert {\n",
              "      background-color: #E8F0FE;\n",
              "      border: none;\n",
              "      border-radius: 50%;\n",
              "      cursor: pointer;\n",
              "      display: none;\n",
              "      fill: #1967D2;\n",
              "      height: 32px;\n",
              "      padding: 0 0 0 0;\n",
              "      width: 32px;\n",
              "    }\n",
              "\n",
              "    .colab-df-convert:hover {\n",
              "      background-color: #E2EBFA;\n",
              "      box-shadow: 0px 1px 2px rgba(60, 64, 67, 0.3), 0px 1px 3px 1px rgba(60, 64, 67, 0.15);\n",
              "      fill: #174EA6;\n",
              "    }\n",
              "\n",
              "    [theme=dark] .colab-df-convert {\n",
              "      background-color: #3B4455;\n",
              "      fill: #D2E3FC;\n",
              "    }\n",
              "\n",
              "    [theme=dark] .colab-df-convert:hover {\n",
              "      background-color: #434B5C;\n",
              "      box-shadow: 0px 1px 3px 1px rgba(0, 0, 0, 0.15);\n",
              "      filter: drop-shadow(0px 1px 2px rgba(0, 0, 0, 0.3));\n",
              "      fill: #FFFFFF;\n",
              "    }\n",
              "  </style>\n",
              "\n",
              "      <script>\n",
              "        const buttonEl =\n",
              "          document.querySelector('#df-1a5cfbfd-753d-4262-9753-4f5ed137e710 button.colab-df-convert');\n",
              "        buttonEl.style.display =\n",
              "          google.colab.kernel.accessAllowed ? 'block' : 'none';\n",
              "\n",
              "        async function convertToInteractive(key) {\n",
              "          const element = document.querySelector('#df-1a5cfbfd-753d-4262-9753-4f5ed137e710');\n",
              "          const dataTable =\n",
              "            await google.colab.kernel.invokeFunction('convertToInteractive',\n",
              "                                                     [key], {});\n",
              "          if (!dataTable) return;\n",
              "\n",
              "          const docLinkHtml = 'Like what you see? Visit the ' +\n",
              "            '<a target=\"_blank\" href=https://colab.research.google.com/notebooks/data_table.ipynb>data table notebook</a>'\n",
              "            + ' to learn more about interactive tables.';\n",
              "          element.innerHTML = '';\n",
              "          dataTable['output_type'] = 'display_data';\n",
              "          await google.colab.output.renderOutput(dataTable, element);\n",
              "          const docLink = document.createElement('div');\n",
              "          docLink.innerHTML = docLinkHtml;\n",
              "          element.appendChild(docLink);\n",
              "        }\n",
              "      </script>\n",
              "    </div>\n",
              "  </div>\n",
              "  "
            ]
          },
          "metadata": {},
          "execution_count": 59
        }
      ]
    },
    {
      "cell_type": "code",
      "source": [
        "inmuebles.info()"
      ],
      "metadata": {
        "colab": {
          "base_uri": "https://localhost:8080/"
        },
        "id": "OxmANN95SKP3",
        "outputId": "785a3e21-9269-470f-ccb4-b35683253152"
      },
      "execution_count": 29,
      "outputs": [
        {
          "output_type": "stream",
          "name": "stdout",
          "text": [
            "<class 'pandas.core.frame.DataFrame'>\n",
            "RangeIndex: 9520 entries, 0 to 9519\n",
            "Data columns (total 10 columns):\n",
            " #   Column        Non-Null Count  Dtype \n",
            "---  ------        --------------  ----- \n",
            " 0   Tipo          9520 non-null   object\n",
            " 1   Descripcion   9520 non-null   object\n",
            " 2   Habitaciones  9520 non-null   int64 \n",
            " 3   Baños         9520 non-null   int64 \n",
            " 4   Área          9520 non-null   int64 \n",
            " 5   Barrio        9520 non-null   object\n",
            " 6   UPZ           9478 non-null   object\n",
            " 7   Valor         9520 non-null   object\n",
            " 8   Moneda        9520 non-null   object\n",
            " 9   Precio        9520 non-null   object\n",
            "dtypes: int64(3), object(7)\n",
            "memory usage: 743.9+ KB\n"
          ]
        }
      ]
    },
    {
      "cell_type": "code",
      "source": [
        "inmuebles['Precio'] = inmuebles['Precio'].str.replace('.','', regex =True)"
      ],
      "metadata": {
        "id": "eqldhouqSefE"
      },
      "execution_count": 60,
      "outputs": []
    },
    {
      "cell_type": "code",
      "source": [
        "inmuebles[['Precio','Barrio']]"
      ],
      "metadata": {
        "colab": {
          "base_uri": "https://localhost:8080/",
          "height": 424
        },
        "id": "YI4uXCxLUpQ3",
        "outputId": "a9d065fd-aef3-42b7-a890-62fd306afdbe"
      },
      "execution_count": 61,
      "outputs": [
        {
          "output_type": "execute_result",
          "data": {
            "text/plain": [
              "          Precio                  Barrio\n",
              "0      360000000      Zona Noroccidental\n",
              "1      670000000                Castilla\n",
              "2     1120000000         Chico Reservado\n",
              "3      890000000                 Usaquén\n",
              "4      970000000             Bella Suiza\n",
              "...          ...                     ...\n",
              "9515   290000000                 Kennedy\n",
              "9516   670000000  Parque Central Bavaria\n",
              "9517   900000000                Restrepo\n",
              "9518   335000000                Engativa\n",
              "9519   144990000                 Tintala\n",
              "\n",
              "[9520 rows x 2 columns]"
            ],
            "text/html": [
              "\n",
              "  <div id=\"df-fa2036bc-aea6-463c-a292-ba858aecf3d6\">\n",
              "    <div class=\"colab-df-container\">\n",
              "      <div>\n",
              "<style scoped>\n",
              "    .dataframe tbody tr th:only-of-type {\n",
              "        vertical-align: middle;\n",
              "    }\n",
              "\n",
              "    .dataframe tbody tr th {\n",
              "        vertical-align: top;\n",
              "    }\n",
              "\n",
              "    .dataframe thead th {\n",
              "        text-align: right;\n",
              "    }\n",
              "</style>\n",
              "<table border=\"1\" class=\"dataframe\">\n",
              "  <thead>\n",
              "    <tr style=\"text-align: right;\">\n",
              "      <th></th>\n",
              "      <th>Precio</th>\n",
              "      <th>Barrio</th>\n",
              "    </tr>\n",
              "  </thead>\n",
              "  <tbody>\n",
              "    <tr>\n",
              "      <th>0</th>\n",
              "      <td>360000000</td>\n",
              "      <td>Zona Noroccidental</td>\n",
              "    </tr>\n",
              "    <tr>\n",
              "      <th>1</th>\n",
              "      <td>670000000</td>\n",
              "      <td>Castilla</td>\n",
              "    </tr>\n",
              "    <tr>\n",
              "      <th>2</th>\n",
              "      <td>1120000000</td>\n",
              "      <td>Chico Reservado</td>\n",
              "    </tr>\n",
              "    <tr>\n",
              "      <th>3</th>\n",
              "      <td>890000000</td>\n",
              "      <td>Usaquén</td>\n",
              "    </tr>\n",
              "    <tr>\n",
              "      <th>4</th>\n",
              "      <td>970000000</td>\n",
              "      <td>Bella Suiza</td>\n",
              "    </tr>\n",
              "    <tr>\n",
              "      <th>...</th>\n",
              "      <td>...</td>\n",
              "      <td>...</td>\n",
              "    </tr>\n",
              "    <tr>\n",
              "      <th>9515</th>\n",
              "      <td>290000000</td>\n",
              "      <td>Kennedy</td>\n",
              "    </tr>\n",
              "    <tr>\n",
              "      <th>9516</th>\n",
              "      <td>670000000</td>\n",
              "      <td>Parque Central Bavaria</td>\n",
              "    </tr>\n",
              "    <tr>\n",
              "      <th>9517</th>\n",
              "      <td>900000000</td>\n",
              "      <td>Restrepo</td>\n",
              "    </tr>\n",
              "    <tr>\n",
              "      <th>9518</th>\n",
              "      <td>335000000</td>\n",
              "      <td>Engativa</td>\n",
              "    </tr>\n",
              "    <tr>\n",
              "      <th>9519</th>\n",
              "      <td>144990000</td>\n",
              "      <td>Tintala</td>\n",
              "    </tr>\n",
              "  </tbody>\n",
              "</table>\n",
              "<p>9520 rows × 2 columns</p>\n",
              "</div>\n",
              "      <button class=\"colab-df-convert\" onclick=\"convertToInteractive('df-fa2036bc-aea6-463c-a292-ba858aecf3d6')\"\n",
              "              title=\"Convert this dataframe to an interactive table.\"\n",
              "              style=\"display:none;\">\n",
              "        \n",
              "  <svg xmlns=\"http://www.w3.org/2000/svg\" height=\"24px\"viewBox=\"0 0 24 24\"\n",
              "       width=\"24px\">\n",
              "    <path d=\"M0 0h24v24H0V0z\" fill=\"none\"/>\n",
              "    <path d=\"M18.56 5.44l.94 2.06.94-2.06 2.06-.94-2.06-.94-.94-2.06-.94 2.06-2.06.94zm-11 1L8.5 8.5l.94-2.06 2.06-.94-2.06-.94L8.5 2.5l-.94 2.06-2.06.94zm10 10l.94 2.06.94-2.06 2.06-.94-2.06-.94-.94-2.06-.94 2.06-2.06.94z\"/><path d=\"M17.41 7.96l-1.37-1.37c-.4-.4-.92-.59-1.43-.59-.52 0-1.04.2-1.43.59L10.3 9.45l-7.72 7.72c-.78.78-.78 2.05 0 2.83L4 21.41c.39.39.9.59 1.41.59.51 0 1.02-.2 1.41-.59l7.78-7.78 2.81-2.81c.8-.78.8-2.07 0-2.86zM5.41 20L4 18.59l7.72-7.72 1.47 1.35L5.41 20z\"/>\n",
              "  </svg>\n",
              "      </button>\n",
              "      \n",
              "  <style>\n",
              "    .colab-df-container {\n",
              "      display:flex;\n",
              "      flex-wrap:wrap;\n",
              "      gap: 12px;\n",
              "    }\n",
              "\n",
              "    .colab-df-convert {\n",
              "      background-color: #E8F0FE;\n",
              "      border: none;\n",
              "      border-radius: 50%;\n",
              "      cursor: pointer;\n",
              "      display: none;\n",
              "      fill: #1967D2;\n",
              "      height: 32px;\n",
              "      padding: 0 0 0 0;\n",
              "      width: 32px;\n",
              "    }\n",
              "\n",
              "    .colab-df-convert:hover {\n",
              "      background-color: #E2EBFA;\n",
              "      box-shadow: 0px 1px 2px rgba(60, 64, 67, 0.3), 0px 1px 3px 1px rgba(60, 64, 67, 0.15);\n",
              "      fill: #174EA6;\n",
              "    }\n",
              "\n",
              "    [theme=dark] .colab-df-convert {\n",
              "      background-color: #3B4455;\n",
              "      fill: #D2E3FC;\n",
              "    }\n",
              "\n",
              "    [theme=dark] .colab-df-convert:hover {\n",
              "      background-color: #434B5C;\n",
              "      box-shadow: 0px 1px 3px 1px rgba(0, 0, 0, 0.15);\n",
              "      filter: drop-shadow(0px 1px 2px rgba(0, 0, 0, 0.3));\n",
              "      fill: #FFFFFF;\n",
              "    }\n",
              "  </style>\n",
              "\n",
              "      <script>\n",
              "        const buttonEl =\n",
              "          document.querySelector('#df-fa2036bc-aea6-463c-a292-ba858aecf3d6 button.colab-df-convert');\n",
              "        buttonEl.style.display =\n",
              "          google.colab.kernel.accessAllowed ? 'block' : 'none';\n",
              "\n",
              "        async function convertToInteractive(key) {\n",
              "          const element = document.querySelector('#df-fa2036bc-aea6-463c-a292-ba858aecf3d6');\n",
              "          const dataTable =\n",
              "            await google.colab.kernel.invokeFunction('convertToInteractive',\n",
              "                                                     [key], {});\n",
              "          if (!dataTable) return;\n",
              "\n",
              "          const docLinkHtml = 'Like what you see? Visit the ' +\n",
              "            '<a target=\"_blank\" href=https://colab.research.google.com/notebooks/data_table.ipynb>data table notebook</a>'\n",
              "            + ' to learn more about interactive tables.';\n",
              "          element.innerHTML = '';\n",
              "          dataTable['output_type'] = 'display_data';\n",
              "          await google.colab.output.renderOutput(dataTable, element);\n",
              "          const docLink = document.createElement('div');\n",
              "          docLink.innerHTML = docLinkHtml;\n",
              "          element.appendChild(docLink);\n",
              "        }\n",
              "      </script>\n",
              "    </div>\n",
              "  </div>\n",
              "  "
            ]
          },
          "metadata": {},
          "execution_count": 61
        }
      ]
    },
    {
      "cell_type": "code",
      "source": [
        "inmuebles['Precio_Millon'] = inmuebles.Precio.astype('float')/1000000\n",
        "inmuebles.info()"
      ],
      "metadata": {
        "colab": {
          "base_uri": "https://localhost:8080/"
        },
        "id": "L4upNzZGTGL4",
        "outputId": "e640081a-1c87-4cbf-d755-8c03a52ab4a0"
      },
      "execution_count": 62,
      "outputs": [
        {
          "output_type": "stream",
          "name": "stdout",
          "text": [
            "<class 'pandas.core.frame.DataFrame'>\n",
            "RangeIndex: 9520 entries, 0 to 9519\n",
            "Data columns (total 11 columns):\n",
            " #   Column         Non-Null Count  Dtype  \n",
            "---  ------         --------------  -----  \n",
            " 0   Tipo           9520 non-null   object \n",
            " 1   Descripcion    9520 non-null   object \n",
            " 2   Habitaciones   9520 non-null   int64  \n",
            " 3   Baños          9520 non-null   int64  \n",
            " 4   Área           9520 non-null   int64  \n",
            " 5   Barrio         9520 non-null   object \n",
            " 6   UPZ            9478 non-null   object \n",
            " 7   Valor          9520 non-null   object \n",
            " 8   Moneda         9520 non-null   object \n",
            " 9   Precio         9520 non-null   object \n",
            " 10  Precio_Millon  9520 non-null   float64\n",
            "dtypes: float64(1), int64(3), object(7)\n",
            "memory usage: 818.2+ KB\n"
          ]
        }
      ]
    },
    {
      "cell_type": "code",
      "source": [
        "inmuebles.describe()"
      ],
      "metadata": {
        "colab": {
          "base_uri": "https://localhost:8080/",
          "height": 300
        },
        "id": "v9SRilSLdgn6",
        "outputId": "5d44df7b-e859-4ba4-eeea-986e50dc673f"
      },
      "execution_count": 63,
      "outputs": [
        {
          "output_type": "execute_result",
          "data": {
            "text/plain": [
              "       Habitaciones   Baños      Área  Precio_Millon\n",
              "count       9520.00 9520.00   9520.00        9520.00\n",
              "mean           3.07    2.45    146.66         602.06\n",
              "std            2.05    1.26   1731.38         704.60\n",
              "min            1.00    0.00      2.00          60.00\n",
              "25%            2.00    2.00     57.00         250.00\n",
              "50%            3.00    2.00     80.00         409.18\n",
              "75%            3.00    3.00    135.00         680.00\n",
              "max          110.00    9.00 166243.00       16000.00"
            ],
            "text/html": [
              "\n",
              "  <div id=\"df-4f277a4b-6967-44db-8198-739831269e78\">\n",
              "    <div class=\"colab-df-container\">\n",
              "      <div>\n",
              "<style scoped>\n",
              "    .dataframe tbody tr th:only-of-type {\n",
              "        vertical-align: middle;\n",
              "    }\n",
              "\n",
              "    .dataframe tbody tr th {\n",
              "        vertical-align: top;\n",
              "    }\n",
              "\n",
              "    .dataframe thead th {\n",
              "        text-align: right;\n",
              "    }\n",
              "</style>\n",
              "<table border=\"1\" class=\"dataframe\">\n",
              "  <thead>\n",
              "    <tr style=\"text-align: right;\">\n",
              "      <th></th>\n",
              "      <th>Habitaciones</th>\n",
              "      <th>Baños</th>\n",
              "      <th>Área</th>\n",
              "      <th>Precio_Millon</th>\n",
              "    </tr>\n",
              "  </thead>\n",
              "  <tbody>\n",
              "    <tr>\n",
              "      <th>count</th>\n",
              "      <td>9520.00</td>\n",
              "      <td>9520.00</td>\n",
              "      <td>9520.00</td>\n",
              "      <td>9520.00</td>\n",
              "    </tr>\n",
              "    <tr>\n",
              "      <th>mean</th>\n",
              "      <td>3.07</td>\n",
              "      <td>2.45</td>\n",
              "      <td>146.66</td>\n",
              "      <td>602.06</td>\n",
              "    </tr>\n",
              "    <tr>\n",
              "      <th>std</th>\n",
              "      <td>2.05</td>\n",
              "      <td>1.26</td>\n",
              "      <td>1731.38</td>\n",
              "      <td>704.60</td>\n",
              "    </tr>\n",
              "    <tr>\n",
              "      <th>min</th>\n",
              "      <td>1.00</td>\n",
              "      <td>0.00</td>\n",
              "      <td>2.00</td>\n",
              "      <td>60.00</td>\n",
              "    </tr>\n",
              "    <tr>\n",
              "      <th>25%</th>\n",
              "      <td>2.00</td>\n",
              "      <td>2.00</td>\n",
              "      <td>57.00</td>\n",
              "      <td>250.00</td>\n",
              "    </tr>\n",
              "    <tr>\n",
              "      <th>50%</th>\n",
              "      <td>3.00</td>\n",
              "      <td>2.00</td>\n",
              "      <td>80.00</td>\n",
              "      <td>409.18</td>\n",
              "    </tr>\n",
              "    <tr>\n",
              "      <th>75%</th>\n",
              "      <td>3.00</td>\n",
              "      <td>3.00</td>\n",
              "      <td>135.00</td>\n",
              "      <td>680.00</td>\n",
              "    </tr>\n",
              "    <tr>\n",
              "      <th>max</th>\n",
              "      <td>110.00</td>\n",
              "      <td>9.00</td>\n",
              "      <td>166243.00</td>\n",
              "      <td>16000.00</td>\n",
              "    </tr>\n",
              "  </tbody>\n",
              "</table>\n",
              "</div>\n",
              "      <button class=\"colab-df-convert\" onclick=\"convertToInteractive('df-4f277a4b-6967-44db-8198-739831269e78')\"\n",
              "              title=\"Convert this dataframe to an interactive table.\"\n",
              "              style=\"display:none;\">\n",
              "        \n",
              "  <svg xmlns=\"http://www.w3.org/2000/svg\" height=\"24px\"viewBox=\"0 0 24 24\"\n",
              "       width=\"24px\">\n",
              "    <path d=\"M0 0h24v24H0V0z\" fill=\"none\"/>\n",
              "    <path d=\"M18.56 5.44l.94 2.06.94-2.06 2.06-.94-2.06-.94-.94-2.06-.94 2.06-2.06.94zm-11 1L8.5 8.5l.94-2.06 2.06-.94-2.06-.94L8.5 2.5l-.94 2.06-2.06.94zm10 10l.94 2.06.94-2.06 2.06-.94-2.06-.94-.94-2.06-.94 2.06-2.06.94z\"/><path d=\"M17.41 7.96l-1.37-1.37c-.4-.4-.92-.59-1.43-.59-.52 0-1.04.2-1.43.59L10.3 9.45l-7.72 7.72c-.78.78-.78 2.05 0 2.83L4 21.41c.39.39.9.59 1.41.59.51 0 1.02-.2 1.41-.59l7.78-7.78 2.81-2.81c.8-.78.8-2.07 0-2.86zM5.41 20L4 18.59l7.72-7.72 1.47 1.35L5.41 20z\"/>\n",
              "  </svg>\n",
              "      </button>\n",
              "      \n",
              "  <style>\n",
              "    .colab-df-container {\n",
              "      display:flex;\n",
              "      flex-wrap:wrap;\n",
              "      gap: 12px;\n",
              "    }\n",
              "\n",
              "    .colab-df-convert {\n",
              "      background-color: #E8F0FE;\n",
              "      border: none;\n",
              "      border-radius: 50%;\n",
              "      cursor: pointer;\n",
              "      display: none;\n",
              "      fill: #1967D2;\n",
              "      height: 32px;\n",
              "      padding: 0 0 0 0;\n",
              "      width: 32px;\n",
              "    }\n",
              "\n",
              "    .colab-df-convert:hover {\n",
              "      background-color: #E2EBFA;\n",
              "      box-shadow: 0px 1px 2px rgba(60, 64, 67, 0.3), 0px 1px 3px 1px rgba(60, 64, 67, 0.15);\n",
              "      fill: #174EA6;\n",
              "    }\n",
              "\n",
              "    [theme=dark] .colab-df-convert {\n",
              "      background-color: #3B4455;\n",
              "      fill: #D2E3FC;\n",
              "    }\n",
              "\n",
              "    [theme=dark] .colab-df-convert:hover {\n",
              "      background-color: #434B5C;\n",
              "      box-shadow: 0px 1px 3px 1px rgba(0, 0, 0, 0.15);\n",
              "      filter: drop-shadow(0px 1px 2px rgba(0, 0, 0, 0.3));\n",
              "      fill: #FFFFFF;\n",
              "    }\n",
              "  </style>\n",
              "\n",
              "      <script>\n",
              "        const buttonEl =\n",
              "          document.querySelector('#df-4f277a4b-6967-44db-8198-739831269e78 button.colab-df-convert');\n",
              "        buttonEl.style.display =\n",
              "          google.colab.kernel.accessAllowed ? 'block' : 'none';\n",
              "\n",
              "        async function convertToInteractive(key) {\n",
              "          const element = document.querySelector('#df-4f277a4b-6967-44db-8198-739831269e78');\n",
              "          const dataTable =\n",
              "            await google.colab.kernel.invokeFunction('convertToInteractive',\n",
              "                                                     [key], {});\n",
              "          if (!dataTable) return;\n",
              "\n",
              "          const docLinkHtml = 'Like what you see? Visit the ' +\n",
              "            '<a target=\"_blank\" href=https://colab.research.google.com/notebooks/data_table.ipynb>data table notebook</a>'\n",
              "            + ' to learn more about interactive tables.';\n",
              "          element.innerHTML = '';\n",
              "          dataTable['output_type'] = 'display_data';\n",
              "          await google.colab.output.renderOutput(dataTable, element);\n",
              "          const docLink = document.createElement('div');\n",
              "          docLink.innerHTML = docLinkHtml;\n",
              "          element.appendChild(docLink);\n",
              "        }\n",
              "      </script>\n",
              "    </div>\n",
              "  </div>\n",
              "  "
            ]
          },
          "metadata": {},
          "execution_count": 63
        }
      ]
    },
    {
      "cell_type": "code",
      "source": [
        "pd.set_option('display.precision',2)\n",
        "pd.set_option('display.float_format', lambda x: '%.2f' % x)\n",
        "inmuebles.describe()"
      ],
      "metadata": {
        "colab": {
          "base_uri": "https://localhost:8080/",
          "height": 300
        },
        "id": "OyKZEOc2fzlc",
        "outputId": "7e4ca7f7-3f21-4d09-ca25-153e45f3e7d2"
      },
      "execution_count": 64,
      "outputs": [
        {
          "output_type": "execute_result",
          "data": {
            "text/plain": [
              "       Habitaciones   Baños      Área  Precio_Millon\n",
              "count       9520.00 9520.00   9520.00        9520.00\n",
              "mean           3.07    2.45    146.66         602.06\n",
              "std            2.05    1.26   1731.38         704.60\n",
              "min            1.00    0.00      2.00          60.00\n",
              "25%            2.00    2.00     57.00         250.00\n",
              "50%            3.00    2.00     80.00         409.18\n",
              "75%            3.00    3.00    135.00         680.00\n",
              "max          110.00    9.00 166243.00       16000.00"
            ],
            "text/html": [
              "\n",
              "  <div id=\"df-c7cb4734-9a66-48e6-b392-283bbb469bfc\">\n",
              "    <div class=\"colab-df-container\">\n",
              "      <div>\n",
              "<style scoped>\n",
              "    .dataframe tbody tr th:only-of-type {\n",
              "        vertical-align: middle;\n",
              "    }\n",
              "\n",
              "    .dataframe tbody tr th {\n",
              "        vertical-align: top;\n",
              "    }\n",
              "\n",
              "    .dataframe thead th {\n",
              "        text-align: right;\n",
              "    }\n",
              "</style>\n",
              "<table border=\"1\" class=\"dataframe\">\n",
              "  <thead>\n",
              "    <tr style=\"text-align: right;\">\n",
              "      <th></th>\n",
              "      <th>Habitaciones</th>\n",
              "      <th>Baños</th>\n",
              "      <th>Área</th>\n",
              "      <th>Precio_Millon</th>\n",
              "    </tr>\n",
              "  </thead>\n",
              "  <tbody>\n",
              "    <tr>\n",
              "      <th>count</th>\n",
              "      <td>9520.00</td>\n",
              "      <td>9520.00</td>\n",
              "      <td>9520.00</td>\n",
              "      <td>9520.00</td>\n",
              "    </tr>\n",
              "    <tr>\n",
              "      <th>mean</th>\n",
              "      <td>3.07</td>\n",
              "      <td>2.45</td>\n",
              "      <td>146.66</td>\n",
              "      <td>602.06</td>\n",
              "    </tr>\n",
              "    <tr>\n",
              "      <th>std</th>\n",
              "      <td>2.05</td>\n",
              "      <td>1.26</td>\n",
              "      <td>1731.38</td>\n",
              "      <td>704.60</td>\n",
              "    </tr>\n",
              "    <tr>\n",
              "      <th>min</th>\n",
              "      <td>1.00</td>\n",
              "      <td>0.00</td>\n",
              "      <td>2.00</td>\n",
              "      <td>60.00</td>\n",
              "    </tr>\n",
              "    <tr>\n",
              "      <th>25%</th>\n",
              "      <td>2.00</td>\n",
              "      <td>2.00</td>\n",
              "      <td>57.00</td>\n",
              "      <td>250.00</td>\n",
              "    </tr>\n",
              "    <tr>\n",
              "      <th>50%</th>\n",
              "      <td>3.00</td>\n",
              "      <td>2.00</td>\n",
              "      <td>80.00</td>\n",
              "      <td>409.18</td>\n",
              "    </tr>\n",
              "    <tr>\n",
              "      <th>75%</th>\n",
              "      <td>3.00</td>\n",
              "      <td>3.00</td>\n",
              "      <td>135.00</td>\n",
              "      <td>680.00</td>\n",
              "    </tr>\n",
              "    <tr>\n",
              "      <th>max</th>\n",
              "      <td>110.00</td>\n",
              "      <td>9.00</td>\n",
              "      <td>166243.00</td>\n",
              "      <td>16000.00</td>\n",
              "    </tr>\n",
              "  </tbody>\n",
              "</table>\n",
              "</div>\n",
              "      <button class=\"colab-df-convert\" onclick=\"convertToInteractive('df-c7cb4734-9a66-48e6-b392-283bbb469bfc')\"\n",
              "              title=\"Convert this dataframe to an interactive table.\"\n",
              "              style=\"display:none;\">\n",
              "        \n",
              "  <svg xmlns=\"http://www.w3.org/2000/svg\" height=\"24px\"viewBox=\"0 0 24 24\"\n",
              "       width=\"24px\">\n",
              "    <path d=\"M0 0h24v24H0V0z\" fill=\"none\"/>\n",
              "    <path d=\"M18.56 5.44l.94 2.06.94-2.06 2.06-.94-2.06-.94-.94-2.06-.94 2.06-2.06.94zm-11 1L8.5 8.5l.94-2.06 2.06-.94-2.06-.94L8.5 2.5l-.94 2.06-2.06.94zm10 10l.94 2.06.94-2.06 2.06-.94-2.06-.94-.94-2.06-.94 2.06-2.06.94z\"/><path d=\"M17.41 7.96l-1.37-1.37c-.4-.4-.92-.59-1.43-.59-.52 0-1.04.2-1.43.59L10.3 9.45l-7.72 7.72c-.78.78-.78 2.05 0 2.83L4 21.41c.39.39.9.59 1.41.59.51 0 1.02-.2 1.41-.59l7.78-7.78 2.81-2.81c.8-.78.8-2.07 0-2.86zM5.41 20L4 18.59l7.72-7.72 1.47 1.35L5.41 20z\"/>\n",
              "  </svg>\n",
              "      </button>\n",
              "      \n",
              "  <style>\n",
              "    .colab-df-container {\n",
              "      display:flex;\n",
              "      flex-wrap:wrap;\n",
              "      gap: 12px;\n",
              "    }\n",
              "\n",
              "    .colab-df-convert {\n",
              "      background-color: #E8F0FE;\n",
              "      border: none;\n",
              "      border-radius: 50%;\n",
              "      cursor: pointer;\n",
              "      display: none;\n",
              "      fill: #1967D2;\n",
              "      height: 32px;\n",
              "      padding: 0 0 0 0;\n",
              "      width: 32px;\n",
              "    }\n",
              "\n",
              "    .colab-df-convert:hover {\n",
              "      background-color: #E2EBFA;\n",
              "      box-shadow: 0px 1px 2px rgba(60, 64, 67, 0.3), 0px 1px 3px 1px rgba(60, 64, 67, 0.15);\n",
              "      fill: #174EA6;\n",
              "    }\n",
              "\n",
              "    [theme=dark] .colab-df-convert {\n",
              "      background-color: #3B4455;\n",
              "      fill: #D2E3FC;\n",
              "    }\n",
              "\n",
              "    [theme=dark] .colab-df-convert:hover {\n",
              "      background-color: #434B5C;\n",
              "      box-shadow: 0px 1px 3px 1px rgba(0, 0, 0, 0.15);\n",
              "      filter: drop-shadow(0px 1px 2px rgba(0, 0, 0, 0.3));\n",
              "      fill: #FFFFFF;\n",
              "    }\n",
              "  </style>\n",
              "\n",
              "      <script>\n",
              "        const buttonEl =\n",
              "          document.querySelector('#df-c7cb4734-9a66-48e6-b392-283bbb469bfc button.colab-df-convert');\n",
              "        buttonEl.style.display =\n",
              "          google.colab.kernel.accessAllowed ? 'block' : 'none';\n",
              "\n",
              "        async function convertToInteractive(key) {\n",
              "          const element = document.querySelector('#df-c7cb4734-9a66-48e6-b392-283bbb469bfc');\n",
              "          const dataTable =\n",
              "            await google.colab.kernel.invokeFunction('convertToInteractive',\n",
              "                                                     [key], {});\n",
              "          if (!dataTable) return;\n",
              "\n",
              "          const docLinkHtml = 'Like what you see? Visit the ' +\n",
              "            '<a target=\"_blank\" href=https://colab.research.google.com/notebooks/data_table.ipynb>data table notebook</a>'\n",
              "            + ' to learn more about interactive tables.';\n",
              "          element.innerHTML = '';\n",
              "          dataTable['output_type'] = 'display_data';\n",
              "          await google.colab.output.renderOutput(dataTable, element);\n",
              "          const docLink = document.createElement('div');\n",
              "          docLink.innerHTML = docLinkHtml;\n",
              "          element.appendChild(docLink);\n",
              "        }\n",
              "      </script>\n",
              "    </div>\n",
              "  </div>\n",
              "  "
            ]
          },
          "metadata": {},
          "execution_count": 64
        }
      ]
    },
    {
      "cell_type": "code",
      "source": [
        "inmuebles.loc[inmuebles.Habitaciones ==110]"
      ],
      "metadata": {
        "colab": {
          "base_uri": "https://localhost:8080/",
          "height": 179
        },
        "id": "CAjNXdXqgvic",
        "outputId": "c461903d-b85f-4cda-9658-4a6fec82a389"
      },
      "execution_count": 65,
      "outputs": [
        {
          "output_type": "execute_result",
          "data": {
            "text/plain": [
              "     Tipo                Descripcion  Habitaciones  Baños  Área    Barrio  \\\n",
              "897  Casa  Casa en venta en La Uribe           110      2   110  La Uribe   \n",
              "\n",
              "         UPZ          Valor Moneda     Precio  Precio_Millon  \n",
              "897  Usaquén  $ 480.000.000      $  480000000         480.00  "
            ],
            "text/html": [
              "\n",
              "  <div id=\"df-b0aadd2b-02c0-4e51-ae72-58ed7d6a2aa5\">\n",
              "    <div class=\"colab-df-container\">\n",
              "      <div>\n",
              "<style scoped>\n",
              "    .dataframe tbody tr th:only-of-type {\n",
              "        vertical-align: middle;\n",
              "    }\n",
              "\n",
              "    .dataframe tbody tr th {\n",
              "        vertical-align: top;\n",
              "    }\n",
              "\n",
              "    .dataframe thead th {\n",
              "        text-align: right;\n",
              "    }\n",
              "</style>\n",
              "<table border=\"1\" class=\"dataframe\">\n",
              "  <thead>\n",
              "    <tr style=\"text-align: right;\">\n",
              "      <th></th>\n",
              "      <th>Tipo</th>\n",
              "      <th>Descripcion</th>\n",
              "      <th>Habitaciones</th>\n",
              "      <th>Baños</th>\n",
              "      <th>Área</th>\n",
              "      <th>Barrio</th>\n",
              "      <th>UPZ</th>\n",
              "      <th>Valor</th>\n",
              "      <th>Moneda</th>\n",
              "      <th>Precio</th>\n",
              "      <th>Precio_Millon</th>\n",
              "    </tr>\n",
              "  </thead>\n",
              "  <tbody>\n",
              "    <tr>\n",
              "      <th>897</th>\n",
              "      <td>Casa</td>\n",
              "      <td>Casa en venta en La Uribe</td>\n",
              "      <td>110</td>\n",
              "      <td>2</td>\n",
              "      <td>110</td>\n",
              "      <td>La Uribe</td>\n",
              "      <td>Usaquén</td>\n",
              "      <td>$ 480.000.000</td>\n",
              "      <td>$</td>\n",
              "      <td>480000000</td>\n",
              "      <td>480.00</td>\n",
              "    </tr>\n",
              "  </tbody>\n",
              "</table>\n",
              "</div>\n",
              "      <button class=\"colab-df-convert\" onclick=\"convertToInteractive('df-b0aadd2b-02c0-4e51-ae72-58ed7d6a2aa5')\"\n",
              "              title=\"Convert this dataframe to an interactive table.\"\n",
              "              style=\"display:none;\">\n",
              "        \n",
              "  <svg xmlns=\"http://www.w3.org/2000/svg\" height=\"24px\"viewBox=\"0 0 24 24\"\n",
              "       width=\"24px\">\n",
              "    <path d=\"M0 0h24v24H0V0z\" fill=\"none\"/>\n",
              "    <path d=\"M18.56 5.44l.94 2.06.94-2.06 2.06-.94-2.06-.94-.94-2.06-.94 2.06-2.06.94zm-11 1L8.5 8.5l.94-2.06 2.06-.94-2.06-.94L8.5 2.5l-.94 2.06-2.06.94zm10 10l.94 2.06.94-2.06 2.06-.94-2.06-.94-.94-2.06-.94 2.06-2.06.94z\"/><path d=\"M17.41 7.96l-1.37-1.37c-.4-.4-.92-.59-1.43-.59-.52 0-1.04.2-1.43.59L10.3 9.45l-7.72 7.72c-.78.78-.78 2.05 0 2.83L4 21.41c.39.39.9.59 1.41.59.51 0 1.02-.2 1.41-.59l7.78-7.78 2.81-2.81c.8-.78.8-2.07 0-2.86zM5.41 20L4 18.59l7.72-7.72 1.47 1.35L5.41 20z\"/>\n",
              "  </svg>\n",
              "      </button>\n",
              "      \n",
              "  <style>\n",
              "    .colab-df-container {\n",
              "      display:flex;\n",
              "      flex-wrap:wrap;\n",
              "      gap: 12px;\n",
              "    }\n",
              "\n",
              "    .colab-df-convert {\n",
              "      background-color: #E8F0FE;\n",
              "      border: none;\n",
              "      border-radius: 50%;\n",
              "      cursor: pointer;\n",
              "      display: none;\n",
              "      fill: #1967D2;\n",
              "      height: 32px;\n",
              "      padding: 0 0 0 0;\n",
              "      width: 32px;\n",
              "    }\n",
              "\n",
              "    .colab-df-convert:hover {\n",
              "      background-color: #E2EBFA;\n",
              "      box-shadow: 0px 1px 2px rgba(60, 64, 67, 0.3), 0px 1px 3px 1px rgba(60, 64, 67, 0.15);\n",
              "      fill: #174EA6;\n",
              "    }\n",
              "\n",
              "    [theme=dark] .colab-df-convert {\n",
              "      background-color: #3B4455;\n",
              "      fill: #D2E3FC;\n",
              "    }\n",
              "\n",
              "    [theme=dark] .colab-df-convert:hover {\n",
              "      background-color: #434B5C;\n",
              "      box-shadow: 0px 1px 3px 1px rgba(0, 0, 0, 0.15);\n",
              "      filter: drop-shadow(0px 1px 2px rgba(0, 0, 0, 0.3));\n",
              "      fill: #FFFFFF;\n",
              "    }\n",
              "  </style>\n",
              "\n",
              "      <script>\n",
              "        const buttonEl =\n",
              "          document.querySelector('#df-b0aadd2b-02c0-4e51-ae72-58ed7d6a2aa5 button.colab-df-convert');\n",
              "        buttonEl.style.display =\n",
              "          google.colab.kernel.accessAllowed ? 'block' : 'none';\n",
              "\n",
              "        async function convertToInteractive(key) {\n",
              "          const element = document.querySelector('#df-b0aadd2b-02c0-4e51-ae72-58ed7d6a2aa5');\n",
              "          const dataTable =\n",
              "            await google.colab.kernel.invokeFunction('convertToInteractive',\n",
              "                                                     [key], {});\n",
              "          if (!dataTable) return;\n",
              "\n",
              "          const docLinkHtml = 'Like what you see? Visit the ' +\n",
              "            '<a target=\"_blank\" href=https://colab.research.google.com/notebooks/data_table.ipynb>data table notebook</a>'\n",
              "            + ' to learn more about interactive tables.';\n",
              "          element.innerHTML = '';\n",
              "          dataTable['output_type'] = 'display_data';\n",
              "          await google.colab.output.renderOutput(dataTable, element);\n",
              "          const docLink = document.createElement('div');\n",
              "          docLink.innerHTML = docLinkHtml;\n",
              "          element.appendChild(docLink);\n",
              "        }\n",
              "      </script>\n",
              "    </div>\n",
              "  </div>\n",
              "  "
            ]
          },
          "metadata": {},
          "execution_count": 65
        }
      ]
    },
    {
      "cell_type": "code",
      "source": [
        "inmuebles['Precio_Millon'].plot.hist(bins =10)"
      ],
      "metadata": {
        "colab": {
          "base_uri": "https://localhost:8080/",
          "height": 282
        },
        "id": "1XUE0czLhN0E",
        "outputId": "6c2f9cd4-484f-4b00-f0a3-c6d586a1201a"
      },
      "execution_count": 66,
      "outputs": [
        {
          "output_type": "execute_result",
          "data": {
            "text/plain": [
              "<Axes: ylabel='Frequency'>"
            ]
          },
          "metadata": {},
          "execution_count": 66
        },
        {
          "output_type": "display_data",
          "data": {
            "text/plain": [
              "<Figure size 432x288 with 1 Axes>"
            ],
            "image/png": "[encoded data removed]"
          },
          "metadata": {
            "needs_background": "light"
          }
        }
      ]
    },
    {
      "cell_type": "code",
      "source": [
        "import matplotlib.pyplot as plt\n",
        "import seaborn as sns\n",
        "\n",
        "plt.figure(figsize=(10,6))\n",
        "grafica =sns.histplot(data = inmuebles , x ='Precio_Millon', kde=True , hue='Tipo')\n",
        "grafica.set_title(' Distribucion de Valores de los inmuebles')\n",
        "plt.xlim((50,1000))\n",
        "plt.show()"
      ],
      "metadata": {
        "colab": {
          "base_uri": "https://localhost:8080/",
          "height": 405
        },
        "id": "o-sOAHt9j2fy",
        "outputId": "ec3cac12-c66e-4c68-8415-7bee5fb0cb19"
      },
      "execution_count": 74,
      "outputs": [
        {
          "output_type": "display_data",
          "data": {
            "text/plain": [
              "<Figure size 720x432 with 1 Axes>"
            ],
            "image/png": "[encoded data removed]"
          },
          "metadata": {
            "needs_background": "light"
          }
        }
      ]
    },
    {
      "cell_type": "code",
      "source": [],
      "metadata": {
        "id": "ZcOwDv9rm-7T"
      },
      "execution_count": null,
      "outputs": []
    }
  ]
}